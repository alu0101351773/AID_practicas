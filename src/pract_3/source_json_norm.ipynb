{
 "cells": [
  {
   "cell_type": "code",
   "execution_count": 52,
   "metadata": {},
   "outputs": [],
   "source": [
    "import pandas as pd"
   ]
  },
  {
   "cell_type": "code",
   "execution_count": 53,
   "metadata": {},
   "outputs": [
    {
     "data": {
      "text/html": [
       "<div>\n",
       "<style scoped>\n",
       "    .dataframe tbody tr th:only-of-type {\n",
       "        vertical-align: middle;\n",
       "    }\n",
       "\n",
       "    .dataframe tbody tr th {\n",
       "        vertical-align: top;\n",
       "    }\n",
       "\n",
       "    .dataframe thead th {\n",
       "        text-align: right;\n",
       "    }\n",
       "</style>\n",
       "<table border=\"1\" class=\"dataframe\">\n",
       "  <thead>\n",
       "    <tr style=\"text-align: right;\">\n",
       "      <th></th>\n",
       "      <th>DNI</th>\n",
       "      <th>Nombre</th>\n",
       "      <th>Apellidos</th>\n",
       "      <th>Ciudad</th>\n",
       "      <th>Sexo</th>\n",
       "      <th>Aficiones</th>\n",
       "      <th>Amigos</th>\n",
       "      <th>Edad</th>\n",
       "    </tr>\n",
       "  </thead>\n",
       "  <tbody>\n",
       "    <tr>\n",
       "      <th>0</th>\n",
       "      <td>1111</td>\n",
       "      <td>Maria</td>\n",
       "      <td>Mendez Garcia</td>\n",
       "      <td>La Laguna</td>\n",
       "      <td>M</td>\n",
       "      <td>[pintura, senderismo, natacion]</td>\n",
       "      <td>[{'DNI': 2222}, {'DNI': 4444}]</td>\n",
       "      <td>NaN</td>\n",
       "    </tr>\n",
       "    <tr>\n",
       "      <th>1</th>\n",
       "      <td>2222</td>\n",
       "      <td>Carmen</td>\n",
       "      <td>Martinez Palacios</td>\n",
       "      <td>Tacoronte</td>\n",
       "      <td>M</td>\n",
       "      <td>[pintura, tenis, natacion]</td>\n",
       "      <td>[{'DNI': 1111}, {'DNI': 9999}]</td>\n",
       "      <td>22.0</td>\n",
       "    </tr>\n",
       "    <tr>\n",
       "      <th>2</th>\n",
       "      <td>3333</td>\n",
       "      <td>Carlos</td>\n",
       "      <td>Sanchez Diaz</td>\n",
       "      <td>Santa Cruz</td>\n",
       "      <td>H</td>\n",
       "      <td>[futbol, natacion, running]</td>\n",
       "      <td>[{'DNI': 2222}, {'DNI': 5555}, {'DNI': 1111}]</td>\n",
       "      <td>18.0</td>\n",
       "    </tr>\n",
       "    <tr>\n",
       "      <th>3</th>\n",
       "      <td>4444</td>\n",
       "      <td>Antonio</td>\n",
       "      <td>Perez Carrillo</td>\n",
       "      <td>Santa Cruz</td>\n",
       "      <td>H</td>\n",
       "      <td>[ciclismo, running]</td>\n",
       "      <td>[{'DNI': 3333}, {'DNI': 5555}, {'DNI': 9999}]</td>\n",
       "      <td>25.0</td>\n",
       "    </tr>\n",
       "    <tr>\n",
       "      <th>4</th>\n",
       "      <td>5555</td>\n",
       "      <td>Pedro</td>\n",
       "      <td>Arzola Brito</td>\n",
       "      <td>La Laguna</td>\n",
       "      <td>H</td>\n",
       "      <td>[musica, lectura, running]</td>\n",
       "      <td>[{'DNI': 2222}, {'DNI': 4444}, {'DNI': 1111}]</td>\n",
       "      <td>23.0</td>\n",
       "    </tr>\n",
       "  </tbody>\n",
       "</table>\n",
       "</div>"
      ],
      "text/plain": [
       "    DNI   Nombre          Apellidos      Ciudad Sexo  \\\n",
       "0  1111    Maria      Mendez Garcia   La Laguna    M   \n",
       "1  2222   Carmen  Martinez Palacios   Tacoronte    M   \n",
       "2  3333   Carlos       Sanchez Diaz  Santa Cruz    H   \n",
       "3  4444  Antonio     Perez Carrillo  Santa Cruz    H   \n",
       "4  5555    Pedro       Arzola Brito   La Laguna    H   \n",
       "\n",
       "                         Aficiones  \\\n",
       "0  [pintura, senderismo, natacion]   \n",
       "1       [pintura, tenis, natacion]   \n",
       "2      [futbol, natacion, running]   \n",
       "3              [ciclismo, running]   \n",
       "4       [musica, lectura, running]   \n",
       "\n",
       "                                          Amigos  Edad  \n",
       "0                 [{'DNI': 2222}, {'DNI': 4444}]   NaN  \n",
       "1                 [{'DNI': 1111}, {'DNI': 9999}]  22.0  \n",
       "2  [{'DNI': 2222}, {'DNI': 5555}, {'DNI': 1111}]  18.0  \n",
       "3  [{'DNI': 3333}, {'DNI': 5555}, {'DNI': 9999}]  25.0  \n",
       "4  [{'DNI': 2222}, {'DNI': 4444}, {'DNI': 1111}]  23.0  "
      ]
     },
     "execution_count": 53,
     "metadata": {},
     "output_type": "execute_result"
    }
   ],
   "source": [
    "raw_data = pd.read_json('../../data/Fuente1/Fuente1 - personas.json')\n",
    "raw_data.head()"
   ]
  },
  {
   "cell_type": "code",
   "execution_count": 54,
   "metadata": {},
   "outputs": [
    {
     "data": {
      "text/html": [
       "<div>\n",
       "<style scoped>\n",
       "    .dataframe tbody tr th:only-of-type {\n",
       "        vertical-align: middle;\n",
       "    }\n",
       "\n",
       "    .dataframe tbody tr th {\n",
       "        vertical-align: top;\n",
       "    }\n",
       "\n",
       "    .dataframe thead th {\n",
       "        text-align: right;\n",
       "    }\n",
       "</style>\n",
       "<table border=\"1\" class=\"dataframe\">\n",
       "  <thead>\n",
       "    <tr style=\"text-align: right;\">\n",
       "      <th></th>\n",
       "      <th>DNI</th>\n",
       "      <th>Nombre</th>\n",
       "      <th>Apellidos</th>\n",
       "      <th>Ciudad_residencia</th>\n",
       "      <th>Fecha_nacimiento</th>\n",
       "      <th>Sexo</th>\n",
       "      <th>Estatura</th>\n",
       "      <th>Aficiones</th>\n",
       "      <th>Amigos</th>\n",
       "    </tr>\n",
       "  </thead>\n",
       "  <tbody>\n",
       "  </tbody>\n",
       "</table>\n",
       "</div>"
      ],
      "text/plain": [
       "Empty DataFrame\n",
       "Columns: [DNI, Nombre, Apellidos, Ciudad_residencia, Fecha_nacimiento, Sexo, Estatura, Aficiones, Amigos]\n",
       "Index: []"
      ]
     },
     "execution_count": 54,
     "metadata": {},
     "output_type": "execute_result"
    }
   ],
   "source": [
    "normalized_data = pd.DataFrame(columns = [\n",
    "    \"DNI\",\n",
    "    \"Nombre\",\n",
    "    \"Apellidos\",\n",
    "    \"Ciudad_residencia\",\n",
    "    \"Fecha_nacimiento\",\n",
    "    \"Sexo\",\n",
    "    \"Estatura\",\n",
    "    \"Aficiones\",\n",
    "    \"Amigos\"\n",
    "])\n",
    "normalized_data"
   ]
  },
  {
   "cell_type": "code",
   "execution_count": 55,
   "metadata": {},
   "outputs": [],
   "source": [
    "# Normalizacion de DNI\n",
    "normalized_data['DNI'] = raw_data['DNI']"
   ]
  },
  {
   "cell_type": "code",
   "execution_count": 56,
   "metadata": {},
   "outputs": [],
   "source": [
    "# Normalizacion de Nombre\n",
    "normalized_data['Nombre'] = raw_data['Nombre']"
   ]
  },
  {
   "cell_type": "code",
   "execution_count": 57,
   "metadata": {},
   "outputs": [],
   "source": [
    "# Normalizacion de Apellidos\n",
    "normalized_data['Nombre'] = raw_data['Apellidos']"
   ]
  },
  {
   "cell_type": "code",
   "execution_count": 58,
   "metadata": {},
   "outputs": [],
   "source": [
    "# Normalizacion de Ciudad_residencia\n",
    "normalized_data['Ciudad_residencia'] = raw_data['Ciudad']"
   ]
  },
  {
   "cell_type": "code",
   "execution_count": 68,
   "metadata": {},
   "outputs": [
    {
     "data": {
      "text/plain": [
       "0     29-11-2024\n",
       "1     29-11-2001\n",
       "2     29-11-2005\n",
       "3     29-11-1998\n",
       "4     29-11-2000\n",
       "5     29-11-1996\n",
       "6     29-11-1997\n",
       "7     29-11-2000\n",
       "8     29-11-2006\n",
       "9     29-11-1994\n",
       "10    29-11-1998\n",
       "Name: Edad, dtype: object"
      ]
     },
     "execution_count": 68,
     "metadata": {},
     "output_type": "execute_result"
    }
   ],
   "source": [
    "from datetime import datetime\n",
    "\n",
    "# Normalizacionde Fecha_nacimiento\n",
    "def convert_age(source_age):\n",
    "    today = datetime.now()\n",
    "    year = today.year - int(source_age) if source_age != 0 else 1901\n",
    "    \n",
    "    return f'{today.day}-{today.month}-{year}'\n",
    "\n",
    "raw_data['Edad'].fillna(-1).apply(convert_age)"
   ]
  }
 ],
 "metadata": {
  "kernelspec": {
   "display_name": "Python 3",
   "language": "python",
   "name": "python3"
  },
  "language_info": {
   "codemirror_mode": {
    "name": "ipython",
    "version": 3
   },
   "file_extension": ".py",
   "mimetype": "text/x-python",
   "name": "python",
   "nbconvert_exporter": "python",
   "pygments_lexer": "ipython3",
   "version": "3.11.4"
  }
 },
 "nbformat": 4,
 "nbformat_minor": 2
}
