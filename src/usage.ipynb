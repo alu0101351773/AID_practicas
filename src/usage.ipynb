{
 "cells": [
  {
   "cell_type": "markdown",
   "metadata": {},
   "source": [
    "# Práctica 1 - Exploración de ficheros locales con distinto formato"
   ]
  },
  {
   "cell_type": "markdown",
   "metadata": {},
   "source": [
    "## 0. Autoría"
   ]
  },
  {
   "cell_type": "markdown",
   "metadata": {},
   "source": [
    "* **Autor**: Jorge Cabrera Rodríguez\n",
    "* **Fecha**: 15/11/2023\n",
    "* **Asignatura**: Adquisición e Integración de Datos (AID)\n",
    "* **Máster**: Ciberseguridad e Inteligencia de Datos\n",
    "* **Universidad**: Universidad de La Laguna (ULL)"
   ]
  },
  {
   "cell_type": "markdown",
   "metadata": {},
   "source": [
    "## 1. Descripción de la librería"
   ]
  },
  {
   "cell_type": "markdown",
   "metadata": {},
   "source": [
    "Se busca desarrollar una librería sencilla en _python_ que permita la lectura, manipulación y escritura de conjuntos de datos (_datasets_) almacenados en ficheros locales. Estos ficheros pueden estar escritos en diferentes formatos, como puedan ser:\n",
    "\n",
    "* _CSV_\n",
    "* _JSON_\n",
    "* _XML_\n",
    "\n",
    "Las funcionalidades que implementa la librería son las siguientes:\n",
    "\n",
    "1. Leer diferentes ficheros locales de formato _CSV_, _JSON_ y _XML_.\n",
    "2. Obtener el nombre del fichero y el número de filas del conjunto de datos que contiene.\n",
    "3. Obtener el contenido completo del conjunto de datos contenido en el fichero.\n",
    "4. Obtener un subconjunto de datos del conjunto de datos contenido en el fichero acorde a un predicado lógico.\n",
    "5. Realizar operaciones de manipulación de datos sobre el conjunto de datos original, tales como:\n",
    "    * Inserción de nuevas filas.\n",
    "    * Eliminación de filas acorde a un predicado lógico.\n",
    "    * Modificación de filas acorde a un predicado lógico.\n",
    "6. Realizar operaciones de modificado de la estructura (_schema_) del conjunto de datos original, tales como:\n",
    "    * Añadir una nueva columna.\n",
    "    * Eliminar una columna.\n",
    "7. Almacenar los cambios realizados a un conjunto de datos de nuevo a un fichero\n",
    "local."
   ]
  },
  {
   "cell_type": "markdown",
   "metadata": {},
   "source": [
    "## 2. Uso de la librería"
   ]
  },
  {
   "cell_type": "markdown",
   "metadata": {},
   "source": [
    "### 2.1. Lectura de ficheros"
   ]
  },
  {
   "cell_type": "markdown",
   "metadata": {},
   "source": [
    "El módulo `multi_reader` aporta las siguientes funciones para leer ficheros:\n",
    "\n",
    "* `read_csv`: Lee un fichero en formato _CSV_.\n",
    "* `read_json`: Lee un fichero en formato _JSON_.\n",
    "* `read_xml`: Lee un fichero en formato _XML_.\n",
    "\n",
    "Estas funciones retornan una clase propia del módulo `multi_reader` llamada `DataFile` que contiene la información del fichero leído."
   ]
  },
  {
   "cell_type": "code",
   "execution_count": 10,
   "metadata": {},
   "outputs": [
    {
     "name": "stdout",
     "output_type": "stream",
     "text": [
      "Tipo de dato de csv_file: DataFile\n",
      "\n",
      "Tipo de dato de xml_file: DataFile\n",
      "\n",
      "Tipo de dato de json_file: DataFile\n"
     ]
    }
   ],
   "source": [
    "from multi_reader import *\n",
    "\n",
    "csv_file = read_csv('../data/iris.csv')\n",
    "print(f\"Tipo de dato de csv_file: {type(csv_file).__name__}\", end=\"\\n\\n\")\n",
    "\n",
    "\n",
    "xml_file = read_xml('../data/movies.xml')\n",
    "print(f\"Tipo de dato de xml_file: {type(xml_file).__name__}\", end=\"\\n\\n\")\n",
    "\n",
    "\n",
    "json_file = read_json('../data/country.json')\n",
    "print(f\"Tipo de dato de json_file: {type(json_file).__name__}\")"
   ]
  },
  {
   "cell_type": "markdown",
   "metadata": {},
   "source": [
    "En caso de que el fichero no exista, o el formato esperado no coincida con el del fichero, se lanzará una excepción."
   ]
  },
  {
   "cell_type": "code",
   "execution_count": 5,
   "metadata": {},
   "outputs": [
    {
     "name": "stdout",
     "output_type": "stream",
     "text": [
      "El formato del fichero no coincide!\n",
      "\n",
      "El fichero no existe!\n",
      "\n"
     ]
    },
    {
     "name": "stderr",
     "output_type": "stream",
     "text": [
      "c:\\Users\\cabre\\Documents\\Master\\adquisicion_incorporacion_datos\\AID_practicas\\src\\multi_reader.py:271: FutureWarning: Passing literal json to 'read_json' is deprecated and will be removed in a future version. To read from a literal string, wrap it in a 'StringIO' object.\n",
      "  data_frame = parsing_function(file_path)\n"
     ]
    }
   ],
   "source": [
    "from multi_reader import *\n",
    "\n",
    "try:\n",
    "    read_csv('../data/movies.xml')\n",
    "except:\n",
    "    print('El formato del fichero no coincide!', end=\"\\n\\n\")\n",
    "\n",
    "\n",
    "try:\n",
    "    read_json('Fichero_inexistente.txt')\n",
    "except:\n",
    "    print('El fichero no existe!', end=\"\\n\\n\")"
   ]
  },
  {
   "cell_type": "markdown",
   "metadata": {},
   "source": [
    "Los métodos de lectura de fichero son las formas esperadas de generar instancias de la clase `DataFile`. La invocación directa del constructor de la clase está implementada, pero desaconsejada."
   ]
  },
  {
   "cell_type": "markdown",
   "metadata": {},
   "source": [
    "### 2.2. Obtención de información sobre el conjunto de datos"
   ]
  },
  {
   "cell_type": "markdown",
   "metadata": {},
   "source": [
    "La clase `DataFile` contiene todos los métodos necesarios para manipular el conjunto de datos. Uno de estos métodos es `summary()`, que nos permite obtener el nombre original del fichero y el número de filas que contiene."
   ]
  },
  {
   "cell_type": "code",
   "execution_count": 7,
   "metadata": {},
   "outputs": [
    {
     "name": "stdout",
     "output_type": "stream",
     "text": [
      "iris.csv (150 rows)\n",
      "\n",
      "movies.xml (14 rows)\n",
      "\n",
      "country.json (135 rows)\n"
     ]
    }
   ],
   "source": [
    "from multi_reader import *\n",
    "\n",
    "csv_file = read_csv('../data/iris.csv')\n",
    "print(csv_file.summary(), end=\"\\n\\n\")\n",
    "\n",
    "\n",
    "xml_file = read_xml('../data/movies.xml')\n",
    "print(xml_file.summary(), end=\"\\n\\n\")\n",
    "\n",
    "\n",
    "json_file = read_json('../data/country.json')\n",
    "print(json_file.summary())"
   ]
  },
  {
   "cell_type": "markdown",
   "metadata": {},
   "source": [
    "### 2.3. Obtención de contenido del conjunto de datos"
   ]
  },
  {
   "cell_type": "markdown",
   "metadata": {},
   "source": [
    "El método `content()` permite obtener el contenido completo del conjunto de datos contenido en el fichero, en formato `str`."
   ]
  },
  {
   "cell_type": "code",
   "execution_count": 11,
   "metadata": {},
   "outputs": [
    {
     "name": "stdout",
     "output_type": "stream",
     "text": [
      "     sepal_length  sepal_width  petal_length  petal_width             iris\n",
      "0             5.1          3.5           1.4          0.2      Iris-setosa\n",
      "1             4.9          3.0           1.4          0.2      Iris-setosa\n",
      "2             4.7          3.2           1.3          0.2      Iris-setosa\n",
      "3             4.6          3.1           1.5          0.2      Iris-setosa\n",
      "4             5.0          3.6           1.4          0.2      Iris-setosa\n",
      "5             5.4          3.9           1.7          0.4      Iris-setosa\n",
      "6             4.6          3.4           1.4          0.3      Iris-setosa\n",
      "7             5.0          3.4           1.5          0.2      Iris-setosa\n",
      "8             4.4          2.9           1.4          0.2      Iris-setosa\n",
      "9             4.9          3.1           1.5          0.1      Iris-setosa\n",
      "10            5.4          3.7           1.5          0.2      Iris-setosa\n",
      "11            4.8          3.4           1.6          0.2      Iris-setosa\n",
      "12            4.8          3.0           1.4          0.1      Iris-setosa\n",
      "13            4.3          3.0           1.1          0.1      Iris-setosa\n",
      "14            5.8          4.0           1.2          0.2      Iris-setosa\n",
      "15            5.7          4.4           1.5          0.4      Iris-setosa\n",
      "16            5.4          3.9           1.3          0.4      Iris-setosa\n",
      "17            5.1          3.5           1.4          0.3      Iris-setosa\n",
      "18            5.7          3.8           1.7          0.3      Iris-setosa\n",
      "19            5.1          3.8           1.5          0.3      Iris-setosa\n",
      "20            5.4          3.4           1.7          0.2      Iris-setosa\n",
      "21            5.1          3.7           1.5          0.4      Iris-setosa\n",
      "22            4.6          3.6           1.0          0.2      Iris-setosa\n",
      "23            5.1          3.3           1.7          0.5      Iris-setosa\n",
      "24            4.8          3.4           1.9          0.2      Iris-setosa\n",
      "25            5.0          3.0           1.6          0.2      Iris-setosa\n",
      "26            5.0          3.4           1.6          0.4      Iris-setosa\n",
      "27            5.2          3.5           1.5          0.2      Iris-setosa\n",
      "28            5.2          3.4           1.4          0.2      Iris-setosa\n",
      "29            4.7          3.2           1.6          0.2      Iris-setosa\n",
      "30            4.8          3.1           1.6          0.2      Iris-setosa\n",
      "31            5.4          3.4           1.5          0.4      Iris-setosa\n",
      "32            5.2          4.1           1.5          0.1      Iris-setosa\n",
      "33            5.5          4.2           1.4          0.2      Iris-setosa\n",
      "34            4.9          3.1           1.5          0.1      Iris-setosa\n",
      "35            5.0          3.2           1.2          0.2      Iris-setosa\n",
      "36            5.5          3.5           1.3          0.2      Iris-setosa\n",
      "37            4.9          3.1           1.5          0.1      Iris-setosa\n",
      "38            4.4          3.0           1.3          0.2      Iris-setosa\n",
      "39            5.1          3.4           1.5          0.2      Iris-setosa\n",
      "40            5.0          3.5           1.3          0.3      Iris-setosa\n",
      "41            4.5          2.3           1.3          0.3      Iris-setosa\n",
      "42            4.4          3.2           1.3          0.2      Iris-setosa\n",
      "43            5.0          3.5           1.6          0.6      Iris-setosa\n",
      "44            5.1          3.8           1.9          0.4      Iris-setosa\n",
      "45            4.8          3.0           1.4          0.3      Iris-setosa\n",
      "46            5.1          3.8           1.6          0.2      Iris-setosa\n",
      "47            4.6          3.2           1.4          0.2      Iris-setosa\n",
      "48            5.3          3.7           1.5          0.2      Iris-setosa\n",
      "49            5.0          3.3           1.4          0.2      Iris-setosa\n",
      "50            7.0          3.2           4.7          1.4  Iris-versicolor\n",
      "51            6.4          3.2           4.5          1.5  Iris-versicolor\n",
      "52            6.9          3.1           4.9          1.5  Iris-versicolor\n",
      "53            5.5          2.3           4.0          1.3  Iris-versicolor\n",
      "54            6.5          2.8           4.6          1.5  Iris-versicolor\n",
      "55            5.7          2.8           4.5          1.3  Iris-versicolor\n",
      "56            6.3          3.3           4.7          1.6  Iris-versicolor\n",
      "57            4.9          2.4           3.3          1.0  Iris-versicolor\n",
      "58            6.6          2.9           4.6          1.3  Iris-versicolor\n",
      "59            5.2          2.7           3.9          1.4  Iris-versicolor\n",
      "60            5.0          2.0           3.5          1.0  Iris-versicolor\n",
      "61            5.9          3.0           4.2          1.5  Iris-versicolor\n",
      "62            6.0          2.2           4.0          1.0  Iris-versicolor\n",
      "63            6.1          2.9           4.7          1.4  Iris-versicolor\n",
      "64            5.6          2.9           3.6          1.3  Iris-versicolor\n",
      "65            6.7          3.1           4.4          1.4  Iris-versicolor\n",
      "66            5.6          3.0           4.5          1.5  Iris-versicolor\n",
      "67            5.8          2.7           4.1          1.0  Iris-versicolor\n",
      "68            6.2          2.2           4.5          1.5  Iris-versicolor\n",
      "69            5.6          2.5           3.9          1.1  Iris-versicolor\n",
      "70            5.9          3.2           4.8          1.8  Iris-versicolor\n",
      "71            6.1          2.8           4.0          1.3  Iris-versicolor\n",
      "72            6.3          2.5           4.9          1.5  Iris-versicolor\n",
      "73            6.1          2.8           4.7          1.2  Iris-versicolor\n",
      "74            6.4          2.9           4.3          1.3  Iris-versicolor\n",
      "75            6.6          3.0           4.4          1.4  Iris-versicolor\n",
      "76            6.8          2.8           4.8          1.4  Iris-versicolor\n",
      "77            6.7          3.0           5.0          1.7  Iris-versicolor\n",
      "78            6.0          2.9           4.5          1.5  Iris-versicolor\n",
      "79            5.7          2.6           3.5          1.0  Iris-versicolor\n",
      "80            5.5          2.4           3.8          1.1  Iris-versicolor\n",
      "81            5.5          2.4           3.7          1.0  Iris-versicolor\n",
      "82            5.8          2.7           3.9          1.2  Iris-versicolor\n",
      "83            6.0          2.7           5.1          1.6  Iris-versicolor\n",
      "84            5.4          3.0           4.5          1.5  Iris-versicolor\n",
      "85            6.0          3.4           4.5          1.6  Iris-versicolor\n",
      "86            6.7          3.1           4.7          1.5  Iris-versicolor\n",
      "87            6.3          2.3           4.4          1.3  Iris-versicolor\n",
      "88            5.6          3.0           4.1          1.3  Iris-versicolor\n",
      "89            5.5          2.5           4.0          1.3  Iris-versicolor\n",
      "90            5.5          2.6           4.4          1.2  Iris-versicolor\n",
      "91            6.1          3.0           4.6          1.4  Iris-versicolor\n",
      "92            5.8          2.6           4.0          1.2  Iris-versicolor\n",
      "93            5.0          2.3           3.3          1.0  Iris-versicolor\n",
      "94            5.6          2.7           4.2          1.3  Iris-versicolor\n",
      "95            5.7          3.0           4.2          1.2  Iris-versicolor\n",
      "96            5.7          2.9           4.2          1.3  Iris-versicolor\n",
      "97            6.2          2.9           4.3          1.3  Iris-versicolor\n",
      "98            5.1          2.5           3.0          1.1  Iris-versicolor\n",
      "99            5.7          2.8           4.1          1.3  Iris-versicolor\n",
      "100           6.3          3.3           6.0          2.5   Iris-virginica\n",
      "101           5.8          2.7           5.1          1.9   Iris-virginica\n",
      "102           7.1          3.0           5.9          2.1   Iris-virginica\n",
      "103           6.3          2.9           5.6          1.8   Iris-virginica\n",
      "104           6.5          3.0           5.8          2.2   Iris-virginica\n",
      "105           7.6          3.0           6.6          2.1   Iris-virginica\n",
      "106           4.9          2.5           4.5          1.7   Iris-virginica\n",
      "107           7.3          2.9           6.3          1.8   Iris-virginica\n",
      "108           6.7          2.5           5.8          1.8   Iris-virginica\n",
      "109           7.2          3.6           6.1          2.5   Iris-virginica\n",
      "110           6.5          3.2           5.1          2.0   Iris-virginica\n",
      "111           6.4          2.7           5.3          1.9   Iris-virginica\n",
      "112           6.8          3.0           5.5          2.1   Iris-virginica\n",
      "113           5.7          2.5           5.0          2.0   Iris-virginica\n",
      "114           5.8          2.8           5.1          2.4   Iris-virginica\n",
      "115           6.4          3.2           5.3          2.3   Iris-virginica\n",
      "116           6.5          3.0           5.5          1.8   Iris-virginica\n",
      "117           7.7          3.8           6.7          2.2   Iris-virginica\n",
      "118           7.7          2.6           6.9          2.3   Iris-virginica\n",
      "119           6.0          2.2           5.0          1.5   Iris-virginica\n",
      "120           6.9          3.2           5.7          2.3   Iris-virginica\n",
      "121           5.6          2.8           4.9          2.0   Iris-virginica\n",
      "122           7.7          2.8           6.7          2.0   Iris-virginica\n",
      "123           6.3          2.7           4.9          1.8   Iris-virginica\n",
      "124           6.7          3.3           5.7          2.1   Iris-virginica\n",
      "125           7.2          3.2           6.0          1.8   Iris-virginica\n",
      "126           6.2          2.8           4.8          1.8   Iris-virginica\n",
      "127           6.1          3.0           4.9          1.8   Iris-virginica\n",
      "128           6.4          2.8           5.6          2.1   Iris-virginica\n",
      "129           7.2          3.0           5.8          1.6   Iris-virginica\n",
      "130           7.4          2.8           6.1          1.9   Iris-virginica\n",
      "131           7.9          3.8           6.4          2.0   Iris-virginica\n",
      "132           6.4          2.8           5.6          2.2   Iris-virginica\n",
      "133           6.3          2.8           5.1          1.5   Iris-virginica\n",
      "134           6.1          2.6           5.6          1.4   Iris-virginica\n",
      "135           7.7          3.0           6.1          2.3   Iris-virginica\n",
      "136           6.3          3.4           5.6          2.4   Iris-virginica\n",
      "137           6.4          3.1           5.5          1.8   Iris-virginica\n",
      "138           6.0          3.0           4.8          1.8   Iris-virginica\n",
      "139           6.9          3.1           5.4          2.1   Iris-virginica\n",
      "140           6.7          3.1           5.6          2.4   Iris-virginica\n",
      "141           6.9          3.1           5.1          2.3   Iris-virginica\n",
      "142           5.8          2.7           5.1          1.9   Iris-virginica\n",
      "143           6.8          3.2           5.9          2.3   Iris-virginica\n",
      "144           6.7          3.3           5.7          2.5   Iris-virginica\n",
      "145           6.7          3.0           5.2          2.3   Iris-virginica\n",
      "146           6.3          2.5           5.0          1.9   Iris-virginica\n",
      "147           6.5          3.0           5.2          2.0   Iris-virginica\n",
      "148           6.2          3.4           5.4          2.3   Iris-virginica\n",
      "149           5.9          3.0           5.1          1.8   Iris-virginica\n"
     ]
    }
   ],
   "source": [
    "from multi_reader import *\n",
    "\n",
    "csv_file = read_csv('../data/iris.csv')\n",
    "print(csv_file.content())"
   ]
  },
  {
   "cell_type": "code",
   "execution_count": 12,
   "metadata": {},
   "outputs": [
    {
     "name": "stdout",
     "output_type": "stream",
     "text": [
      "    favorite                                       title               format  year   rating                                                                                                                                                                                                                                                                                                                   description\n",
      "0       True  Indiana Jones: The raiders of the lost Ark                  DVD  1981       PG                                                                                                                                                                  'Archaeologist and adventurer Indiana Jones \\n        is hired by the U.S. government to find the Ark of the \\n        Covenant before the Nazis.'\\n        \n",
      "1       True                              THE KARATE KID           DVD,Online  1984       PG                                                                                                                                                                                                                                                                                                                None provided.\n",
      "2      False                           Back 2 the Future              Blu-ray  1985       PG                                                                                                                                                                                                                                                                                                                   Marty McFly\n",
      "3      False                                       X-Men         dvd, digital  2000    PG-13                                                                                                                                                              Two mutants come to a private academy for their kind whose resident superhero team must \\n        oppose a terrorist organization with similar powers.\\n        \n",
      "4       True                              Batman Returns                  VHS  1992     PG13                                                                                                                                                                                                                                                                                                                           NA.\n",
      "5      False                              Reservoir Dogs               Online  1992        R                                                                                                                                                                                                                                                                                                          WhAtEvER I Want!!!?!\n",
      "6      False                                       ALIEN                  DVD  1979        R                                                                                                                                                                                                                                                                                                                     \"\"\"\"\"\"\"\"\"\n",
      "7       True                    Ferris Bueller's Day Off                  DVD  1986     PG13                                                                                                                                                                                                                                                                                                 Funny movie about a funny guy\n",
      "8      False                             American Psycho             blue-ray  2000  Unrated                                                                                                                                                                                                                                                                                                          psychopathic Bateman\n",
      "9      False                           Batman: The Movie              DVD,VHS  1966       PG                                                                                                                                                                                                                                                                                                                  What a joke!\n",
      "10      True                                      Easy A                  DVD  2010   PG--13                                                                                                                                                                                                                                                                                                    Emma Stone = Hester Prynne\n",
      "11      True                         Dinner for SCHMUCKS  DVD,digital,Netflix  2011  Unrated  Tim (Rudd) is a rising executive\\n            who “succeeds” in finding the perfect guest, \\n            IRS employee Barry (Carell), for his boss’ monthly event, \\n            a so-called “dinner for idiots,” which offers certain \\n            advantages to the exec who shows up with the biggest buffoon.\\n        \n",
      "12     False                                Ghostbusters           Online,VHS  1984       PG                                                                                                                                                                                                                                                                                                            Who ya gonna call?\n",
      "13      True               Robin Hood: Prince of Thieves              Blu_Ray  1991  Unknown                                                                                                                                                                                                                                                                                                            Robin Hood slaying\n"
     ]
    }
   ],
   "source": [
    "from multi_reader import *\n",
    "\n",
    "xml_file = read_xml('../data/movies.xml')\n",
    "print(xml_file.content())"
   ]
  },
  {
   "cell_type": "code",
   "execution_count": 13,
   "metadata": {},
   "outputs": [
    {
     "name": "stdout",
     "output_type": "stream",
     "text": [
      "                                  name code\n",
      "0                              Algeria   DZ\n",
      "1                            Argentina   AR\n",
      "2                            Australia   AU\n",
      "3                              Austria   AT\n",
      "4                      Austria-Hungary  NaN\n",
      "5                      Austrian Empire  NaN\n",
      "6                           Azerbaijan   AZ\n",
      "7                           Bangladesh   BD\n",
      "8                             Barbados   BB\n",
      "9                              Bavaria   DE\n",
      "10                             Belarus   BY\n",
      "11                       Belgian Congo   CD\n",
      "12                             Belgium   BE\n",
      "13                              Bosnia   BA\n",
      "14              Bosnia and Herzegovina   BA\n",
      "15                              Brazil   BR\n",
      "16                       British India   IN\n",
      "17        British Mandate of Palestine   IL\n",
      "18   British Protectorate of Palestine   IL\n",
      "19                 British West Indies   LC\n",
      "20                            Bulgaria   BG\n",
      "21                               Burma   MM\n",
      "22                              Canada   CA\n",
      "23                               Chile   CL\n",
      "24                               China   CN\n",
      "25                            Colombia   CO\n",
      "26                          Costa Rica   CR\n",
      "27                               Crete   GR\n",
      "28                             Croatia   HR\n",
      "29                              Cyprus   CY\n",
      "30                      Czech Republic   CZ\n",
      "31                      Czechoslovakia   CZ\n",
      "32    Democratic Republic of the Congo   CD\n",
      "33      Democratic Republic of Vietnam   VN\n",
      "34                             Denmark   DK\n",
      "35                      East Friesland   DE\n",
      "36                        East Germany   DE\n",
      "37                          East Timor   TL\n",
      "38                               Egypt   EG\n",
      "39                            Ethiopia   ET\n",
      "40             Faroe Islands (Denmark)   DK\n",
      "41                             Finland   FI\n",
      "42                              France   FR\n",
      "43                 Free City of Danzig   PL\n",
      "44                      French Algeria   DZ\n",
      "45                               Gabon   GA\n",
      "46              German-occupied Poland   PL\n",
      "47                             Germany   DE\n",
      "48                               Ghana   GH\n",
      "49                          Gold Coast   GH\n",
      "50                              Greece   GR\n",
      "51                           Greenland   GL\n",
      "52                   Guadeloupe Island   GP\n",
      "53                           Guatemala   GT\n",
      "54                        Hesse-Kassel   DE\n",
      "55                    Hungarian Empire   CZ\n",
      "56                             Hungary   HU\n",
      "57                             Iceland   IS\n",
      "58                               India   IN\n",
      "59                           Indonesia   ID\n",
      "60                                Iran   IR\n",
      "61                                Iraq   IQ\n",
      "62                             Ireland   IE\n",
      "63                              Israel   IL\n",
      "64                               Italy   IT\n",
      "65                             Jamaica   JM\n",
      "66                               Japan   JP\n",
      "67             Java, Dutch East Indies   ID\n",
      "68                               Kenya   KE\n",
      "69                               Korea   BR\n",
      "70                              Latvia   LV\n",
      "71                             Liberia   LR\n",
      "72                           Lithuania   LT\n",
      "73                          Luxembourg   LU\n",
      "74                          Madagascar   MG\n",
      "75                           Mauritius   MU\n",
      "76                         Mecklenburg   DE\n",
      "77                              Mexico   MX\n",
      "78                             Morocco   MA\n",
      "79                             Myanmar   MM\n",
      "80                         New Zealand   NZ\n",
      "81                             Nigeria   NG\n",
      "82                     North Macedonia   MK\n",
      "83                    Northern Ireland   GB\n",
      "84                   Northern Rhodesia   ZM\n",
      "85                              Norway   NO\n",
      "86                      Ottoman Empire   TR\n",
      "87                            Pakistan   PK\n",
      "88                           Palestine   US\n",
      "89                              Persia   IR\n",
      "90                                Peru   PE\n",
      "91                         Philippines   PH\n",
      "92                              Poland   PL\n",
      "93              Poland, Russian Empire   PL\n",
      "94                            Portugal   PT\n",
      "95                             Prussia   PL\n",
      "96                         Puerto Rico   PR\n",
      "97               Republic of Macedonia   MK\n",
      "98                             Romania   RO\n",
      "99                              Russia   RU\n",
      "100               Russia, Soviet Union   RU\n",
      "101                     Russian Empire   AZ\n",
      "102                        Saint Lucia   LC\n",
      "103                          Schleswig   DE\n",
      "104                           Scotland   GB\n",
      "105                             Serbia   RS\n",
      "106                          Singapore   SG\n",
      "107                           Slovakia   SK\n",
      "108                           Slovenia   SI\n",
      "109                       South Africa   ZA\n",
      "110                        South Korea   KR\n",
      "111                  Southern Rhodesia   ZW\n",
      "112                              Spain   ES\n",
      "113                             Sweden   SE\n",
      "114                        Switzerland   CH\n",
      "115                             Taiwan   TW\n",
      "116                    the Netherlands   NL\n",
      "117                              Tibet   CN\n",
      "118                Trinidad and Tobago   TT\n",
      "119                            Tunisia   TN\n",
      "120                             Turkey   TR\n",
      "121                            Tuscany   IT\n",
      "122                            Ukraine   UA\n",
      "123              Union of South Africa   ZA\n",
      "124                     United Kingdom   GB\n",
      "125                                USA   US\n",
      "126                               USSR   RU\n",
      "127                          Venezuela   VE\n",
      "128                            Vietnam   VN\n",
      "129                       West Germany   DE\n",
      "130                        Württemberg   DE\n",
      "131                              Yemen   YE\n",
      "132                         Yugoslavia   YU\n",
      "133                             Zambia   ZM\n",
      "134                           Zimbabwe   ZW\n"
     ]
    }
   ],
   "source": [
    "from multi_reader import *\n",
    "\n",
    "json_file = read_json('../data/country.json')\n",
    "print(json_file.content())"
   ]
  },
  {
   "cell_type": "markdown",
   "metadata": {},
   "source": [
    "### 2.4. Filtrado de registros"
   ]
  },
  {
   "cell_type": "markdown",
   "metadata": {},
   "source": [
    "### 2.5. Operaciones de modificación de datos"
   ]
  },
  {
   "cell_type": "markdown",
   "metadata": {},
   "source": [
    "#### 2.5.1. Inserción de filas"
   ]
  },
  {
   "cell_type": "markdown",
   "metadata": {},
   "source": [
    "#### 2.5.2. Eliminación de filas"
   ]
  },
  {
   "cell_type": "markdown",
   "metadata": {},
   "source": [
    "#### 2.5.3. Modificación de filas"
   ]
  },
  {
   "cell_type": "markdown",
   "metadata": {},
   "source": [
    "### 2.6. Operaciones de modificación de estructura"
   ]
  },
  {
   "cell_type": "markdown",
   "metadata": {},
   "source": [
    "#### 2.6.1. Añadido de columnas"
   ]
  },
  {
   "cell_type": "markdown",
   "metadata": {},
   "source": [
    "#### 2.6.2. Eliminado de columnas"
   ]
  },
  {
   "cell_type": "markdown",
   "metadata": {},
   "source": [
    "### 2.7. Escritura de ficheros"
   ]
  }
 ],
 "metadata": {
  "kernelspec": {
   "display_name": "Python 3",
   "language": "python",
   "name": "python3"
  },
  "language_info": {
   "codemirror_mode": {
    "name": "ipython",
    "version": 3
   },
   "file_extension": ".py",
   "mimetype": "text/x-python",
   "name": "python",
   "nbconvert_exporter": "python",
   "pygments_lexer": "ipython3",
   "version": "3.11.4"
  }
 },
 "nbformat": 4,
 "nbformat_minor": 2
}
