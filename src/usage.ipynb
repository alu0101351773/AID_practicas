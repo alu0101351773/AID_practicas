{
 "cells": [
  {
   "cell_type": "markdown",
   "metadata": {},
   "source": [
    "# Práctica 1 - Exploración de ficheros locales con distinto formato"
   ]
  },
  {
   "cell_type": "markdown",
   "metadata": {},
   "source": [
    "## 0. Autoría"
   ]
  },
  {
   "cell_type": "markdown",
   "metadata": {},
   "source": [
    "* **Autor**: Jorge Cabrera Rodríguez\n",
    "* **Fecha**: 15/11/2023\n",
    "* **Asignatura**: Adquisición e Integración de Datos (AID)\n",
    "* **Máster**: Ciberseguridad e Inteligencia de Datos\n",
    "* **Universidad**: Universidad de La Laguna (ULL)"
   ]
  },
  {
   "cell_type": "markdown",
   "metadata": {},
   "source": [
    "## 1. Descripción de la librería"
   ]
  },
  {
   "cell_type": "markdown",
   "metadata": {},
   "source": [
    "Se busca desarrollar una librería sencilla en _python_ que permita la lectura, manipulación y escritura de conjuntos de datos (_datasets_) almacenados en ficheros locales. Estos ficheros pueden estar escritos en diferentes formatos, como puedan ser:\n",
    "\n",
    "* _CSV_\n",
    "* _JSON_\n",
    "* _XML_\n",
    "\n",
    "Las funcionalidades que implementa la librería son las siguientes:\n",
    "\n",
    "1. Leer diferentes ficheros locales de formato _CSV_, _JSON_ y _XML_.\n",
    "2. Obtener el nombre del fichero y el número de filas del conjunto de datos que contiene.\n",
    "3. Obtener el contenido completo del conjunto de datos contenido en el fichero.\n",
    "4. Obtener un subconjunto de datos del conjunto de datos contenido en el fichero acorde a un predicado lógico.\n",
    "5. Realizar operaciones de manipulación de datos sobre el conjunto de datos original, tales como:\n",
    "    * Inserción de nuevas filas.\n",
    "    * Eliminación de filas acorde a un predicado lógico.\n",
    "    * Modificación de filas acorde a un predicado lógico.\n",
    "6. Realizar operaciones de modificado de la estructura (_schema_) del conjunto de datos original, tales como:\n",
    "    * Añadir una nueva columna.\n",
    "    * Eliminar una columna.\n",
    "7. Almacenar los cambios realizados a un conjunto de datos de nuevo a un fichero\n",
    "local."
   ]
  },
  {
   "cell_type": "markdown",
   "metadata": {},
   "source": [
    "## 2. Uso de la librería"
   ]
  },
  {
   "cell_type": "markdown",
   "metadata": {},
   "source": [
    "### 2.1. Lectura de ficheros"
   ]
  },
  {
   "cell_type": "markdown",
   "metadata": {},
   "source": [
    "### 2.2. Obtención de información sobre el conjunto de datos"
   ]
  },
  {
   "cell_type": "markdown",
   "metadata": {},
   "source": [
    "### 2.3. Obtención de contenido del conjunto de datos"
   ]
  },
  {
   "cell_type": "markdown",
   "metadata": {},
   "source": [
    "### 2.4. Filtrado de registros"
   ]
  },
  {
   "cell_type": "markdown",
   "metadata": {},
   "source": [
    "### 2.5. Operaciones de modificación de datos"
   ]
  },
  {
   "cell_type": "markdown",
   "metadata": {},
   "source": [
    "#### 2.5.1. Inserción de filas"
   ]
  },
  {
   "cell_type": "markdown",
   "metadata": {},
   "source": [
    "#### 2.5.2. Eliminación de filas"
   ]
  },
  {
   "cell_type": "markdown",
   "metadata": {},
   "source": [
    "#### 2.5.3. Modificación de filas"
   ]
  },
  {
   "cell_type": "markdown",
   "metadata": {},
   "source": [
    "### 2.6. Operaciones de modificación de estructura"
   ]
  },
  {
   "cell_type": "markdown",
   "metadata": {},
   "source": [
    "#### 2.6.1. Añadido de columnas"
   ]
  },
  {
   "cell_type": "markdown",
   "metadata": {},
   "source": [
    "#### 2.6.2. Eliminado de columnas"
   ]
  },
  {
   "cell_type": "markdown",
   "metadata": {},
   "source": [
    "### 2.7. Escritura de ficheros"
   ]
  }
 ],
 "metadata": {
  "kernelspec": {
   "display_name": "Python 3",
   "language": "python",
   "name": "python3"
  },
  "language_info": {
   "codemirror_mode": {
    "name": "ipython",
    "version": 3
   },
   "file_extension": ".py",
   "mimetype": "text/x-python",
   "name": "python",
   "nbconvert_exporter": "python",
   "pygments_lexer": "ipython3",
   "version": "3.11.4"
  }
 },
 "nbformat": 4,
 "nbformat_minor": 2
}
