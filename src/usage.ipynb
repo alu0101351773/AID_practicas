{
 "cells": [
  {
   "cell_type": "code",
   "execution_count": 1,
   "metadata": {},
   "outputs": [],
   "source": [
    "import multi_reader\n",
    "import pandas as pd"
   ]
  },
  {
   "cell_type": "code",
   "execution_count": 2,
   "metadata": {},
   "outputs": [],
   "source": [
    "def maniaco(caca: 'function') -> None:\n",
    "    pass"
   ]
  },
  {
   "cell_type": "code",
   "execution_count": 2,
   "metadata": {},
   "outputs": [
    {
     "name": "stdout",
     "output_type": "stream",
     "text": [
      "     sepal_length  sepal_width  petal_length  petal_width             iris\n",
      "0             5.1          3.5           1.4          0.2      Iris-setosa\n",
      "1             4.9          3.0           1.4          0.2      Iris-setosa\n",
      "2             4.7          3.2           1.3          0.2      Iris-setosa\n",
      "3             4.6          3.1           1.5          0.2      Iris-setosa\n",
      "4             5.0          3.6           1.4          0.2      Iris-setosa\n",
      "5             5.4          3.9           1.7          0.4      Iris-setosa\n",
      "6             4.6          3.4           1.4          0.3      Iris-setosa\n",
      "7             5.0          3.4           1.5          0.2      Iris-setosa\n",
      "8             4.4          2.9           1.4          0.2      Iris-setosa\n",
      "9             4.9          3.1           1.5          0.1      Iris-setosa\n",
      "10            5.4          3.7           1.5          0.2      Iris-setosa\n",
      "11            4.8          3.4           1.6          0.2      Iris-setosa\n",
      "12            4.8          3.0           1.4          0.1      Iris-setosa\n",
      "13            4.3          3.0           1.1          0.1      Iris-setosa\n",
      "14            5.8          4.0           1.2          0.2      Iris-setosa\n",
      "15            5.7          4.4           1.5          0.4      Iris-setosa\n",
      "16            5.4          3.9           1.3          0.4      Iris-setosa\n",
      "17            5.1          3.5           1.4          0.3      Iris-setosa\n",
      "18            5.7          3.8           1.7          0.3      Iris-setosa\n",
      "19            5.1          3.8           1.5          0.3      Iris-setosa\n",
      "20            5.4          3.4           1.7          0.2      Iris-setosa\n",
      "21            5.1          3.7           1.5          0.4      Iris-setosa\n",
      "22            4.6          3.6           1.0          0.2      Iris-setosa\n",
      "23            5.1          3.3           1.7          0.5      Iris-setosa\n",
      "24            4.8          3.4           1.9          0.2      Iris-setosa\n",
      "25            5.0          3.0           1.6          0.2      Iris-setosa\n",
      "26            5.0          3.4           1.6          0.4      Iris-setosa\n",
      "27            5.2          3.5           1.5          0.2      Iris-setosa\n",
      "28            5.2          3.4           1.4          0.2      Iris-setosa\n",
      "29            4.7          3.2           1.6          0.2      Iris-setosa\n",
      "30            4.8          3.1           1.6          0.2      Iris-setosa\n",
      "31            5.4          3.4           1.5          0.4      Iris-setosa\n",
      "32            5.2          4.1           1.5          0.1      Iris-setosa\n",
      "33            5.5          4.2           1.4          0.2      Iris-setosa\n",
      "34            4.9          3.1           1.5          0.1      Iris-setosa\n",
      "35            5.0          3.2           1.2          0.2      Iris-setosa\n",
      "36            5.5          3.5           1.3          0.2      Iris-setosa\n",
      "37            4.9          3.1           1.5          0.1      Iris-setosa\n",
      "38            4.4          3.0           1.3          0.2      Iris-setosa\n",
      "39            5.1          3.4           1.5          0.2      Iris-setosa\n",
      "40            5.0          3.5           1.3          0.3      Iris-setosa\n",
      "41            4.5          2.3           1.3          0.3      Iris-setosa\n",
      "42            4.4          3.2           1.3          0.2      Iris-setosa\n",
      "43            5.0          3.5           1.6          0.6      Iris-setosa\n",
      "44            5.1          3.8           1.9          0.4      Iris-setosa\n",
      "45            4.8          3.0           1.4          0.3      Iris-setosa\n",
      "46            5.1          3.8           1.6          0.2      Iris-setosa\n",
      "47            4.6          3.2           1.4          0.2      Iris-setosa\n",
      "48            5.3          3.7           1.5          0.2      Iris-setosa\n",
      "49            5.0          3.3           1.4          0.2      Iris-setosa\n",
      "50            7.0          3.2           4.7          1.4  Iris-versicolor\n",
      "51            6.4          3.2           4.5          1.5  Iris-versicolor\n",
      "52            6.9          3.1           4.9          1.5  Iris-versicolor\n",
      "53            5.5          2.3           4.0          1.3  Iris-versicolor\n",
      "54            6.5          2.8           4.6          1.5  Iris-versicolor\n",
      "55            5.7          2.8           4.5          1.3  Iris-versicolor\n",
      "56            6.3          3.3           4.7          1.6  Iris-versicolor\n",
      "57            4.9          2.4           3.3          1.0  Iris-versicolor\n",
      "58            6.6          2.9           4.6          1.3  Iris-versicolor\n",
      "59            5.2          2.7           3.9          1.4  Iris-versicolor\n",
      "60            5.0          2.0           3.5          1.0  Iris-versicolor\n",
      "61            5.9          3.0           4.2          1.5  Iris-versicolor\n",
      "62            6.0          2.2           4.0          1.0  Iris-versicolor\n",
      "63            6.1          2.9           4.7          1.4  Iris-versicolor\n",
      "64            5.6          2.9           3.6          1.3  Iris-versicolor\n",
      "65            6.7          3.1           4.4          1.4  Iris-versicolor\n",
      "66            5.6          3.0           4.5          1.5  Iris-versicolor\n",
      "67            5.8          2.7           4.1          1.0  Iris-versicolor\n",
      "68            6.2          2.2           4.5          1.5  Iris-versicolor\n",
      "69            5.6          2.5           3.9          1.1  Iris-versicolor\n",
      "70            5.9          3.2           4.8          1.8  Iris-versicolor\n",
      "71            6.1          2.8           4.0          1.3  Iris-versicolor\n",
      "72            6.3          2.5           4.9          1.5  Iris-versicolor\n",
      "73            6.1          2.8           4.7          1.2  Iris-versicolor\n",
      "74            6.4          2.9           4.3          1.3  Iris-versicolor\n",
      "75            6.6          3.0           4.4          1.4  Iris-versicolor\n",
      "76            6.8          2.8           4.8          1.4  Iris-versicolor\n",
      "77            6.7          3.0           5.0          1.7  Iris-versicolor\n",
      "78            6.0          2.9           4.5          1.5  Iris-versicolor\n",
      "79            5.7          2.6           3.5          1.0  Iris-versicolor\n",
      "80            5.5          2.4           3.8          1.1  Iris-versicolor\n",
      "81            5.5          2.4           3.7          1.0  Iris-versicolor\n",
      "82            5.8          2.7           3.9          1.2  Iris-versicolor\n",
      "83            6.0          2.7           5.1          1.6  Iris-versicolor\n",
      "84            5.4          3.0           4.5          1.5  Iris-versicolor\n",
      "85            6.0          3.4           4.5          1.6  Iris-versicolor\n",
      "86            6.7          3.1           4.7          1.5  Iris-versicolor\n",
      "87            6.3          2.3           4.4          1.3  Iris-versicolor\n",
      "88            5.6          3.0           4.1          1.3  Iris-versicolor\n",
      "89            5.5          2.5           4.0          1.3  Iris-versicolor\n",
      "90            5.5          2.6           4.4          1.2  Iris-versicolor\n",
      "91            6.1          3.0           4.6          1.4  Iris-versicolor\n",
      "92            5.8          2.6           4.0          1.2  Iris-versicolor\n",
      "93            5.0          2.3           3.3          1.0  Iris-versicolor\n",
      "94            5.6          2.7           4.2          1.3  Iris-versicolor\n",
      "95            5.7          3.0           4.2          1.2  Iris-versicolor\n",
      "96            5.7          2.9           4.2          1.3  Iris-versicolor\n",
      "97            6.2          2.9           4.3          1.3  Iris-versicolor\n",
      "98            5.1          2.5           3.0          1.1  Iris-versicolor\n",
      "99            5.7          2.8           4.1          1.3  Iris-versicolor\n",
      "100           6.3          3.3           6.0          2.5   Iris-virginica\n",
      "101           5.8          2.7           5.1          1.9   Iris-virginica\n",
      "102           7.1          3.0           5.9          2.1   Iris-virginica\n",
      "103           6.3          2.9           5.6          1.8   Iris-virginica\n",
      "104           6.5          3.0           5.8          2.2   Iris-virginica\n",
      "105           7.6          3.0           6.6          2.1   Iris-virginica\n",
      "106           4.9          2.5           4.5          1.7   Iris-virginica\n",
      "107           7.3          2.9           6.3          1.8   Iris-virginica\n",
      "108           6.7          2.5           5.8          1.8   Iris-virginica\n",
      "109           7.2          3.6           6.1          2.5   Iris-virginica\n",
      "110           6.5          3.2           5.1          2.0   Iris-virginica\n",
      "111           6.4          2.7           5.3          1.9   Iris-virginica\n",
      "112           6.8          3.0           5.5          2.1   Iris-virginica\n",
      "113           5.7          2.5           5.0          2.0   Iris-virginica\n",
      "114           5.8          2.8           5.1          2.4   Iris-virginica\n",
      "115           6.4          3.2           5.3          2.3   Iris-virginica\n",
      "116           6.5          3.0           5.5          1.8   Iris-virginica\n",
      "117           7.7          3.8           6.7          2.2   Iris-virginica\n",
      "118           7.7          2.6           6.9          2.3   Iris-virginica\n",
      "119           6.0          2.2           5.0          1.5   Iris-virginica\n",
      "120           6.9          3.2           5.7          2.3   Iris-virginica\n",
      "121           5.6          2.8           4.9          2.0   Iris-virginica\n",
      "122           7.7          2.8           6.7          2.0   Iris-virginica\n",
      "123           6.3          2.7           4.9          1.8   Iris-virginica\n",
      "124           6.7          3.3           5.7          2.1   Iris-virginica\n",
      "125           7.2          3.2           6.0          1.8   Iris-virginica\n",
      "126           6.2          2.8           4.8          1.8   Iris-virginica\n",
      "127           6.1          3.0           4.9          1.8   Iris-virginica\n",
      "128           6.4          2.8           5.6          2.1   Iris-virginica\n",
      "129           7.2          3.0           5.8          1.6   Iris-virginica\n",
      "130           7.4          2.8           6.1          1.9   Iris-virginica\n",
      "131           7.9          3.8           6.4          2.0   Iris-virginica\n",
      "132           6.4          2.8           5.6          2.2   Iris-virginica\n",
      "133           6.3          2.8           5.1          1.5   Iris-virginica\n",
      "134           6.1          2.6           5.6          1.4   Iris-virginica\n",
      "135           7.7          3.0           6.1          2.3   Iris-virginica\n",
      "136           6.3          3.4           5.6          2.4   Iris-virginica\n",
      "137           6.4          3.1           5.5          1.8   Iris-virginica\n",
      "138           6.0          3.0           4.8          1.8   Iris-virginica\n",
      "139           6.9          3.1           5.4          2.1   Iris-virginica\n",
      "140           6.7          3.1           5.6          2.4   Iris-virginica\n",
      "141           6.9          3.1           5.1          2.3   Iris-virginica\n",
      "142           5.8          2.7           5.1          1.9   Iris-virginica\n",
      "143           6.8          3.2           5.9          2.3   Iris-virginica\n",
      "144           6.7          3.3           5.7          2.5   Iris-virginica\n",
      "145           6.7          3.0           5.2          2.3   Iris-virginica\n",
      "146           6.3          2.5           5.0          1.9   Iris-virginica\n",
      "147           6.5          3.0           5.2          2.0   Iris-virginica\n",
      "148           6.2          3.4           5.4          2.3   Iris-virginica\n",
      "149           5.9          3.0           5.1          1.8   Iris-virginica\n"
     ]
    }
   ],
   "source": [
    "prueba = multi_reader.read_csv('../data/iris.csv')\n",
    "\n",
    "print(prueba.content())"
   ]
  },
  {
   "cell_type": "code",
   "execution_count": 3,
   "metadata": {},
   "outputs": [
    {
     "name": "stdout",
     "output_type": "stream",
     "text": [
      "iris_copy.csv (3 rows)\n",
      "   sepal_length  sepal_width  petal_length  petal_width         iris\n",
      "0           5.1          3.5           1.4          0.2  Iris-setosa\n",
      "1           4.9          3.0           1.4          0.2  Iris-setosa\n",
      "2           4.7          3.2           1.3          0.2  Iris-setosa\n",
      "iris_copy.csv (6 rows)\n",
      "   sepal_length  sepal_width  petal_length  petal_width         iris\n",
      "0           5.1          3.5           1.4          0.2  Iris-setosa\n",
      "1           4.9          3.0           1.4          0.2  Iris-setosa\n",
      "2           4.7          3.2           1.3          0.2  Iris-setosa\n",
      "3           5.1          3.5           1.4          0.2  Iris-setosa\n",
      "4           4.9          3.0           1.4          0.2  Iris-setosa\n",
      "5           4.7          3.2           1.3          0.2  Iris-setosa\n",
      "iris_copy.csv (4 rows)\n",
      "   sepal_length  sepal_width  petal_length  petal_width              iris\n",
      "0           5.1          3.5           1.4          0.2       Iris-setosa\n",
      "1           4.9          3.0           1.4          0.2       Iris-setosa\n",
      "2           4.7          3.2           1.3          0.2       Iris-setosa\n",
      "3           3.0          3.0           3.0          3.0  flor toda bonita\n"
     ]
    }
   ],
   "source": [
    "alberto = multi_reader.read_csv('../data/iris_copy.csv')\n",
    "print(alberto.summary())\n",
    "print(alberto.content())\n",
    "\n",
    "new_alberto = alberto.insert(alberto)\n",
    "print(new_alberto.summary())\n",
    "print(new_alberto.content())\n",
    "\n",
    "new_again_alberto = alberto.insert([\n",
    "    (3, 3, 3, 3, 'flor toda bonita')\n",
    "])\n",
    "print(new_again_alberto.summary())\n",
    "print(new_again_alberto.content())"
   ]
  },
  {
   "cell_type": "code",
   "execution_count": 4,
   "metadata": {},
   "outputs": [
    {
     "name": "stdout",
     "output_type": "stream",
     "text": [
      "movies_copy.xml (3 rows)\n",
      "   favorite                                       title      format  year rating                                                                                                                                                   description\n",
      "0      True  Indiana Jones: The raiders of the lost Ark         DVD  1981     PG  'Archaeologist and adventurer Indiana Jones \\n        is hired by the U.S. government to find the Ark of the \\n        Covenant before the Nazis.'\\n        \n",
      "1      True                              THE KARATE KID  DVD,Online  1984     PG                                                                                                                                                None provided.\n",
      "2     False                           Back 2 the Future     Blu-ray  1985     PG                                                                                                                                                   Marty McFly\n",
      "movies_copy.xml (6 rows)\n",
      "   favorite                                       title      format  year rating                                                                                                                                                   description\n",
      "0      True  Indiana Jones: The raiders of the lost Ark         DVD  1981     PG  'Archaeologist and adventurer Indiana Jones \\n        is hired by the U.S. government to find the Ark of the \\n        Covenant before the Nazis.'\\n        \n",
      "1      True                              THE KARATE KID  DVD,Online  1984     PG                                                                                                                                                None provided.\n",
      "2     False                           Back 2 the Future     Blu-ray  1985     PG                                                                                                                                                   Marty McFly\n",
      "3      True  Indiana Jones: The raiders of the lost Ark         DVD  1981     PG  'Archaeologist and adventurer Indiana Jones \\n        is hired by the U.S. government to find the Ark of the \\n        Covenant before the Nazis.'\\n        \n",
      "4      True                              THE KARATE KID  DVD,Online  1984     PG                                                                                                                                                None provided.\n",
      "5     False                           Back 2 the Future     Blu-ray  1985     PG                                                                                                                                                   Marty McFly\n"
     ]
    }
   ],
   "source": [
    "pepito = multi_reader.read_xml('../data/movies_copy.xml')\n",
    "print(pepito.summary())\n",
    "print(pepito.content())\n",
    "\n",
    "new_pepito = pepito.insert(pepito)\n",
    "print(new_pepito.summary())\n",
    "print(new_pepito.content())"
   ]
  },
  {
   "cell_type": "code",
   "execution_count": 5,
   "metadata": {},
   "outputs": [
    {
     "data": {
      "text/html": [
       "<div>\n",
       "<style scoped>\n",
       "    .dataframe tbody tr th:only-of-type {\n",
       "        vertical-align: middle;\n",
       "    }\n",
       "\n",
       "    .dataframe tbody tr th {\n",
       "        vertical-align: top;\n",
       "    }\n",
       "\n",
       "    .dataframe thead th {\n",
       "        text-align: right;\n",
       "    }\n",
       "</style>\n",
       "<table border=\"1\" class=\"dataframe\">\n",
       "  <thead>\n",
       "    <tr style=\"text-align: right;\">\n",
       "      <th></th>\n",
       "      <th>a</th>\n",
       "      <th>b</th>\n",
       "      <th>c</th>\n",
       "    </tr>\n",
       "  </thead>\n",
       "  <tbody>\n",
       "    <tr>\n",
       "      <th>0</th>\n",
       "      <td>2</td>\n",
       "      <td>2</td>\n",
       "      <td>2</td>\n",
       "    </tr>\n",
       "    <tr>\n",
       "      <th>1</th>\n",
       "      <td>3</td>\n",
       "      <td>3</td>\n",
       "      <td>3</td>\n",
       "    </tr>\n",
       "  </tbody>\n",
       "</table>\n",
       "</div>"
      ],
      "text/plain": [
       "   a  b  c\n",
       "0  2  2  2\n",
       "1  3  3  3"
      ]
     },
     "metadata": {},
     "output_type": "display_data"
    }
   ],
   "source": [
    "a = pd.DataFrame.from_records(\n",
    "    data = [\n",
    "        (1, 1, 1),\n",
    "        (2, 2, 2),\n",
    "        (3, 3, 3)\n",
    "    ],\n",
    "    columns = ['a', 'b', 'c']\n",
    ")\n",
    "\n",
    "delete_condition = lambda row: row['a'] < 2\n",
    "\n",
    "b = a[a.apply(\n",
    "    lambda row: not delete_condition(row),\n",
    "    axis = 1,\n",
    ")]\n",
    "\n",
    "b = b.reset_index(drop = True)\n",
    "\n",
    "display(b)"
   ]
  },
  {
   "cell_type": "code",
   "execution_count": 6,
   "metadata": {},
   "outputs": [
    {
     "name": "stdout",
     "output_type": "stream",
     "text": [
      "   sepal_length  sepal_width  petal_length  petal_width              iris\n",
      "0           5.1          3.5           1.4          0.2       Iris-setosa\n",
      "1           4.9          3.0           1.4          0.2       Iris-setosa\n",
      "2           4.7          3.2           1.3          0.2       Iris-setosa\n",
      "3           3.0          3.0           3.0          3.0  flor toda bonita\n",
      "   sepal_length  sepal_width  petal_length  petal_width         iris\n",
      "0           5.1          3.5           1.4          0.2  Iris-setosa\n",
      "1           4.9          3.0           1.4          0.2  Iris-setosa\n",
      "2           4.7          3.2           1.3          0.2  Iris-setosa\n"
     ]
    }
   ],
   "source": [
    "print(new_again_alberto.content())\n",
    "\n",
    "alberto_sad = new_again_alberto.delete(lambda row: row['iris'] == 'flor toda bonita')\n",
    "\n",
    "print(alberto_sad.content())"
   ]
  },
  {
   "cell_type": "code",
   "execution_count": 7,
   "metadata": {},
   "outputs": [
    {
     "data": {
      "text/html": [
       "<div>\n",
       "<style scoped>\n",
       "    .dataframe tbody tr th:only-of-type {\n",
       "        vertical-align: middle;\n",
       "    }\n",
       "\n",
       "    .dataframe tbody tr th {\n",
       "        vertical-align: top;\n",
       "    }\n",
       "\n",
       "    .dataframe thead th {\n",
       "        text-align: right;\n",
       "    }\n",
       "</style>\n",
       "<table border=\"1\" class=\"dataframe\">\n",
       "  <thead>\n",
       "    <tr style=\"text-align: right;\">\n",
       "      <th></th>\n",
       "      <th>a</th>\n",
       "      <th>b</th>\n",
       "      <th>c</th>\n",
       "    </tr>\n",
       "  </thead>\n",
       "  <tbody>\n",
       "    <tr>\n",
       "      <th>0</th>\n",
       "      <td>1</td>\n",
       "      <td>69</td>\n",
       "      <td>1</td>\n",
       "    </tr>\n",
       "    <tr>\n",
       "      <th>1</th>\n",
       "      <td>2</td>\n",
       "      <td>2</td>\n",
       "      <td>2</td>\n",
       "    </tr>\n",
       "    <tr>\n",
       "      <th>2</th>\n",
       "      <td>3</td>\n",
       "      <td>3</td>\n",
       "      <td>3</td>\n",
       "    </tr>\n",
       "  </tbody>\n",
       "</table>\n",
       "</div>"
      ],
      "text/plain": [
       "   a   b  c\n",
       "0  1  69  1\n",
       "1  2   2  2\n",
       "2  3   3  3"
      ]
     },
     "metadata": {},
     "output_type": "display_data"
    }
   ],
   "source": [
    "\n",
    "\n",
    "def action(row):\n",
    "    row['b'] = 69\n",
    "\n",
    "\n",
    "def condition(row):\n",
    "    return row['a'] == 1\n",
    "\n",
    "\n",
    "a = pd.DataFrame.from_records(\n",
    "    data = [\n",
    "        (1, 1, 1),\n",
    "        (2, 2, 2),\n",
    "        (3, 3, 3)\n",
    "    ],\n",
    "    columns = ['a', 'b', 'c']\n",
    ")\n",
    "\n",
    "b = a.copy(deep = True)\n",
    "\n",
    "for i, row in b.iterrows():\n",
    "    if condition(row):\n",
    "        action(row)\n",
    "\n",
    "\n",
    "display(b)"
   ]
  },
  {
   "cell_type": "code",
   "execution_count": 8,
   "metadata": {},
   "outputs": [
    {
     "name": "stdout",
     "output_type": "stream",
     "text": [
      "   sepal_length  sepal_width  petal_length  petal_width         iris\n",
      "0           5.1          3.5           1.4          0.2  Iris-setosa\n",
      "1           4.9          3.0           1.4          0.2  Iris-setosa\n",
      "2           4.7          3.2           1.3          0.2  Iris-setosa\n",
      "   sepal_length  sepal_width  petal_length  petal_width         iris\n",
      "0           5.1          3.5           1.4          0.2  Iris-setosa\n",
      "1           4.9          3.0           1.4          0.2  Iris-setosa\n",
      "2          94.0          3.2           1.3          0.2  Iris-setosa\n"
     ]
    }
   ],
   "source": [
    "def duplicate_sepal_length(row):\n",
    "    row['sepal_length'] *= 20\n",
    "\n",
    "\n",
    "alberto_gordo = alberto_sad.update(\n",
    "    condition = lambda row: row['sepal_length'] <= 4.8,\n",
    "    statement = duplicate_sepal_length\n",
    ")\n",
    "\n",
    "print(alberto_sad.content())\n",
    "print(alberto_gordo.content())"
   ]
  },
  {
   "cell_type": "code",
   "execution_count": 9,
   "metadata": {},
   "outputs": [
    {
     "data": {
      "text/html": [
       "<div>\n",
       "<style scoped>\n",
       "    .dataframe tbody tr th:only-of-type {\n",
       "        vertical-align: middle;\n",
       "    }\n",
       "\n",
       "    .dataframe tbody tr th {\n",
       "        vertical-align: top;\n",
       "    }\n",
       "\n",
       "    .dataframe thead th {\n",
       "        text-align: right;\n",
       "    }\n",
       "</style>\n",
       "<table border=\"1\" class=\"dataframe\">\n",
       "  <thead>\n",
       "    <tr style=\"text-align: right;\">\n",
       "      <th></th>\n",
       "      <th>a</th>\n",
       "      <th>b</th>\n",
       "      <th>c</th>\n",
       "      <th>d</th>\n",
       "      <th>e</th>\n",
       "    </tr>\n",
       "  </thead>\n",
       "  <tbody>\n",
       "    <tr>\n",
       "      <th>0</th>\n",
       "      <td>1</td>\n",
       "      <td>1</td>\n",
       "      <td>1</td>\n",
       "      <td>3</td>\n",
       "      <td>None</td>\n",
       "    </tr>\n",
       "    <tr>\n",
       "      <th>1</th>\n",
       "      <td>2</td>\n",
       "      <td>2</td>\n",
       "      <td>2</td>\n",
       "      <td>6</td>\n",
       "      <td>None</td>\n",
       "    </tr>\n",
       "    <tr>\n",
       "      <th>2</th>\n",
       "      <td>3</td>\n",
       "      <td>3</td>\n",
       "      <td>3</td>\n",
       "      <td>9</td>\n",
       "      <td>None</td>\n",
       "    </tr>\n",
       "  </tbody>\n",
       "</table>\n",
       "</div>"
      ],
      "text/plain": [
       "   a  b  c  d     e\n",
       "0  1  1  1  3  None\n",
       "1  2  2  2  6  None\n",
       "2  3  3  3  9  None"
      ]
     },
     "metadata": {},
     "output_type": "display_data"
    }
   ],
   "source": [
    "a = pd.DataFrame.from_records(\n",
    "    data = [\n",
    "        (1, 1, 1),\n",
    "        (2, 2, 2),\n",
    "        (3, 3, 3)\n",
    "    ],\n",
    "    columns = ['a', 'b', 'c']\n",
    ")\n",
    "\n",
    "a['d'] = a['a'] + a['b'] + a['c']\n",
    "a['e'] = None\n",
    "\n",
    "display(a)"
   ]
  },
  {
   "cell_type": "code",
   "execution_count": 10,
   "metadata": {},
   "outputs": [
    {
     "name": "stdout",
     "output_type": "stream",
     "text": [
      "   sepal_length  sepal_width  petal_length  petal_width         iris  Tamanio_minga\n",
      "0           5.1          3.5           1.4          0.2  Iris-setosa           10.2\n",
      "1           4.9          3.0           1.4          0.2  Iris-setosa            9.8\n",
      "2          94.0          3.2           1.3          0.2  Iris-setosa          188.0\n",
      "   sepal_length  petal_length  petal_width         iris\n",
      "0           5.1           1.4          0.2  Iris-setosa\n",
      "1           4.9           1.4          0.2  Iris-setosa\n",
      "2          94.0           1.3          0.2  Iris-setosa\n"
     ]
    }
   ],
   "source": [
    "print(alberto_gordo.add_field('Tamanio_minga', lambda row: row['sepal_length'] * 2).content())\n",
    "print(alberto_gordo.drop_field('sepal_width').content())"
   ]
  },
  {
   "cell_type": "code",
   "execution_count": 11,
   "metadata": {},
   "outputs": [
    {
     "name": "stdout",
     "output_type": "stream",
     "text": [
      "   favorite                                       title      format  year rating           description\n",
      "0      True  Indiana Jones: The raiders of the lost Ark         DVD  1981     PG  se mueren todos. Fin\n",
      "1      True                              THE KARATE KID  DVD,Online  1984     PG  se mueren todos. Fin\n",
      "2     False                           Back 2 the Future     Blu-ray  1985     PG  se mueren todos. Fin\n"
     ]
    }
   ],
   "source": [
    "peliculas = multi_reader.read_xml('../data/movies_copy.xml')\n",
    "\n",
    "def resumir_pelicula(row):\n",
    "    row['description'] = 'se mueren todos. Fin'\n",
    "\n",
    "peliculas_resumidas = peliculas.update(\n",
    "    condition = lambda row: 1 == 1,\n",
    "    statement = resumir_pelicula\n",
    ")\n",
    "\n",
    "print(peliculas_resumidas.content())"
   ]
  },
  {
   "cell_type": "code",
   "execution_count": 12,
   "metadata": {},
   "outputs": [],
   "source": [
    "peliculas_resumidas.write('resumidas.xml')"
   ]
  }
 ],
 "metadata": {
  "kernelspec": {
   "display_name": "Python 3",
   "language": "python",
   "name": "python3"
  },
  "language_info": {
   "codemirror_mode": {
    "name": "ipython",
    "version": 3
   },
   "file_extension": ".py",
   "mimetype": "text/x-python",
   "name": "python",
   "nbconvert_exporter": "python",
   "pygments_lexer": "ipython3",
   "version": "3.11.4"
  }
 },
 "nbformat": 4,
 "nbformat_minor": 2
}
