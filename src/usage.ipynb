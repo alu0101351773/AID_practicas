{
 "cells": [
  {
   "cell_type": "code",
   "execution_count": 2,
   "metadata": {},
   "outputs": [],
   "source": [
    "import multi_reader"
   ]
  },
  {
   "cell_type": "code",
   "execution_count": 3,
   "metadata": {},
   "outputs": [
    {
     "name": "stdout",
     "output_type": "stream",
     "text": [
      "iris.csv (150 rows)\n",
      "aaa\n",
      "iris.csv (300 rows)\n"
     ]
    }
   ],
   "source": [
    "alberto = multi_reader.read_csv('../data/iris.csv')\n",
    "\n",
    "print(alberto.summary())\n",
    "\n",
    "new_alberto = alberto.insert(alberto)\n",
    "\n",
    "print(new_alberto.summary())"
   ]
  }
 ],
 "metadata": {
  "kernelspec": {
   "display_name": "Python 3",
   "language": "python",
   "name": "python3"
  },
  "language_info": {
   "codemirror_mode": {
    "name": "ipython",
    "version": 3
   },
   "file_extension": ".py",
   "mimetype": "text/x-python",
   "name": "python",
   "nbconvert_exporter": "python",
   "pygments_lexer": "ipython3",
   "version": "3.11.5"
  }
 },
 "nbformat": 4,
 "nbformat_minor": 2
}
