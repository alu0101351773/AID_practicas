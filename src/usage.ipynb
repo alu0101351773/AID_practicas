{
 "cells": [
  {
   "cell_type": "code",
   "execution_count": 2,
   "metadata": {},
   "outputs": [],
   "source": [
    "import multi_reader\n",
    "import pandas as pd"
   ]
  },
  {
   "cell_type": "code",
   "execution_count": 3,
   "metadata": {},
   "outputs": [
    {
     "name": "stdout",
     "output_type": "stream",
     "text": [
      "iris_copy.csv (3 rows)\n",
      "   sepal_length  sepal_width  petal_length  petal_width         iris\n",
      "0           5.1          3.5           1.4          0.2  Iris-setosa\n",
      "1           4.9          3.0           1.4          0.2  Iris-setosa\n",
      "2           4.7          3.2           1.3          0.2  Iris-setosa\n",
      "iris_copy.csv (6 rows)\n",
      "   sepal_length  sepal_width  petal_length  petal_width         iris\n",
      "0           5.1          3.5           1.4          0.2  Iris-setosa\n",
      "1           4.9          3.0           1.4          0.2  Iris-setosa\n",
      "2           4.7          3.2           1.3          0.2  Iris-setosa\n",
      "3           5.1          3.5           1.4          0.2  Iris-setosa\n",
      "4           4.9          3.0           1.4          0.2  Iris-setosa\n",
      "5           4.7          3.2           1.3          0.2  Iris-setosa\n",
      "iris_copy.csv (4 rows)\n",
      "   sepal_length  sepal_width  petal_length  petal_width              iris\n",
      "0           5.1          3.5           1.4          0.2       Iris-setosa\n",
      "1           4.9          3.0           1.4          0.2       Iris-setosa\n",
      "2           4.7          3.2           1.3          0.2       Iris-setosa\n",
      "3           3.0          3.0           3.0          3.0  flor toda bonita\n"
     ]
    }
   ],
   "source": [
    "alberto = multi_reader.read_csv('../data/iris_copy.csv')\n",
    "print(alberto.summary())\n",
    "print(alberto.content())\n",
    "\n",
    "new_alberto = alberto.insert(alberto)\n",
    "print(new_alberto.summary())\n",
    "print(new_alberto.content())\n",
    "\n",
    "new_again_alberto = alberto.insert([\n",
    "    (3, 3, 3, 3, 'flor toda bonita')\n",
    "])\n",
    "print(new_again_alberto.summary())\n",
    "print(new_again_alberto.content())"
   ]
  },
  {
   "cell_type": "code",
   "execution_count": 4,
   "metadata": {},
   "outputs": [
    {
     "name": "stdout",
     "output_type": "stream",
     "text": [
      "movies_copy.xml (3 rows)\n",
      "   favorite                                       title      format  year rating                                                                                                                                                   description\n",
      "0      True  Indiana Jones: The raiders of the lost Ark         DVD  1981     PG  'Archaeologist and adventurer Indiana Jones \\n        is hired by the U.S. government to find the Ark of the \\n        Covenant before the Nazis.'\\n        \n",
      "1      True                              THE KARATE KID  DVD,Online  1984     PG                                                                                                                                                None provided.\n",
      "2     False                           Back 2 the Future     Blu-ray  1985     PG                                                                                                                                                   Marty McFly\n",
      "movies_copy.xml (6 rows)\n",
      "   favorite                                       title      format  year rating                                                                                                                                                   description\n",
      "0      True  Indiana Jones: The raiders of the lost Ark         DVD  1981     PG  'Archaeologist and adventurer Indiana Jones \\n        is hired by the U.S. government to find the Ark of the \\n        Covenant before the Nazis.'\\n        \n",
      "1      True                              THE KARATE KID  DVD,Online  1984     PG                                                                                                                                                None provided.\n",
      "2     False                           Back 2 the Future     Blu-ray  1985     PG                                                                                                                                                   Marty McFly\n",
      "3      True  Indiana Jones: The raiders of the lost Ark         DVD  1981     PG  'Archaeologist and adventurer Indiana Jones \\n        is hired by the U.S. government to find the Ark of the \\n        Covenant before the Nazis.'\\n        \n",
      "4      True                              THE KARATE KID  DVD,Online  1984     PG                                                                                                                                                None provided.\n",
      "5     False                           Back 2 the Future     Blu-ray  1985     PG                                                                                                                                                   Marty McFly\n"
     ]
    }
   ],
   "source": [
    "pepito = multi_reader.read_xml('../data/movies_copy.xml')\n",
    "print(pepito.summary())\n",
    "print(pepito.content())\n",
    "\n",
    "new_pepito = pepito.insert(pepito)\n",
    "print(new_pepito.summary())\n",
    "print(new_pepito.content())"
   ]
  },
  {
   "cell_type": "code",
   "execution_count": 5,
   "metadata": {},
   "outputs": [
    {
     "data": {
      "text/html": [
       "<div>\n",
       "<style scoped>\n",
       "    .dataframe tbody tr th:only-of-type {\n",
       "        vertical-align: middle;\n",
       "    }\n",
       "\n",
       "    .dataframe tbody tr th {\n",
       "        vertical-align: top;\n",
       "    }\n",
       "\n",
       "    .dataframe thead th {\n",
       "        text-align: right;\n",
       "    }\n",
       "</style>\n",
       "<table border=\"1\" class=\"dataframe\">\n",
       "  <thead>\n",
       "    <tr style=\"text-align: right;\">\n",
       "      <th></th>\n",
       "      <th>a</th>\n",
       "      <th>b</th>\n",
       "      <th>c</th>\n",
       "    </tr>\n",
       "  </thead>\n",
       "  <tbody>\n",
       "    <tr>\n",
       "      <th>0</th>\n",
       "      <td>2</td>\n",
       "      <td>2</td>\n",
       "      <td>2</td>\n",
       "    </tr>\n",
       "    <tr>\n",
       "      <th>1</th>\n",
       "      <td>3</td>\n",
       "      <td>3</td>\n",
       "      <td>3</td>\n",
       "    </tr>\n",
       "  </tbody>\n",
       "</table>\n",
       "</div>"
      ],
      "text/plain": [
       "   a  b  c\n",
       "0  2  2  2\n",
       "1  3  3  3"
      ]
     },
     "metadata": {},
     "output_type": "display_data"
    }
   ],
   "source": [
    "a = pd.DataFrame.from_records(\n",
    "    data = [\n",
    "        (1, 1, 1),\n",
    "        (2, 2, 2),\n",
    "        (3, 3, 3)\n",
    "    ],\n",
    "    columns = ['a', 'b', 'c']\n",
    ")\n",
    "\n",
    "delete_condition = lambda row: row['a'] < 2\n",
    "\n",
    "b = a[a.apply(\n",
    "    lambda row: not delete_condition(row),\n",
    "    axis = 1,\n",
    ")]\n",
    "\n",
    "b = b.reset_index(drop = True)\n",
    "\n",
    "display(b)"
   ]
  },
  {
   "cell_type": "code",
   "execution_count": 6,
   "metadata": {},
   "outputs": [
    {
     "name": "stdout",
     "output_type": "stream",
     "text": [
      "   sepal_length  sepal_width  petal_length  petal_width              iris\n",
      "0           5.1          3.5           1.4          0.2       Iris-setosa\n",
      "1           4.9          3.0           1.4          0.2       Iris-setosa\n",
      "2           4.7          3.2           1.3          0.2       Iris-setosa\n",
      "3           3.0          3.0           3.0          3.0  flor toda bonita\n",
      "   sepal_length  sepal_width  petal_length  petal_width         iris\n",
      "0           5.1          3.5           1.4          0.2  Iris-setosa\n",
      "1           4.9          3.0           1.4          0.2  Iris-setosa\n",
      "2           4.7          3.2           1.3          0.2  Iris-setosa\n"
     ]
    }
   ],
   "source": [
    "print(new_again_alberto.content())\n",
    "\n",
    "alberto_sad = new_again_alberto.delete(lambda row: row['iris'] == 'flor toda bonita')\n",
    "\n",
    "print(alberto_sad.content())"
   ]
  },
  {
   "cell_type": "code",
   "execution_count": 12,
   "metadata": {},
   "outputs": [
    {
     "data": {
      "text/plain": [
       "0    4\n",
       "1    2\n",
       "2    3\n",
       "dtype: int64"
      ]
     },
     "execution_count": 12,
     "metadata": {},
     "output_type": "execute_result"
    }
   ],
   "source": [
    "a = pd.DataFrame.from_records(\n",
    "    data = [\n",
    "        (1, 1, 1),\n",
    "        (2, 2, 2),\n",
    "        (3, 3, 3)\n",
    "    ],\n",
    "    columns = ['a', 'b', 'c']\n",
    ")\n",
    "\n",
    "def update_series(row, action, condition):\n",
    "    if condition(row):\n",
    "        action(row)\n",
    "    return row\n",
    "\n",
    "ts_condition = lambda row: row['a'] == 2\n",
    "\n",
    "a.apply(\n",
    "    lambda row: 3\n",
    ")"
   ]
  },
  {
   "cell_type": "code",
   "execution_count": 13,
   "metadata": {},
   "outputs": [
    {
     "data": {
      "text/plain": [
       "0    3\n",
       "1    2\n",
       "2    3\n",
       "dtype: int64"
      ]
     },
     "metadata": {},
     "output_type": "display_data"
    }
   ],
   "source": [
    "c = pd.Series([1, 2, 3])\n",
    "c[0] = 3\n",
    "display(c)"
   ]
  }
 ],
 "metadata": {
  "kernelspec": {
   "display_name": "Python 3",
   "language": "python",
   "name": "python3"
  },
  "language_info": {
   "codemirror_mode": {
    "name": "ipython",
    "version": 3
   },
   "file_extension": ".py",
   "mimetype": "text/x-python",
   "name": "python",
   "nbconvert_exporter": "python",
   "pygments_lexer": "ipython3",
   "version": "3.11.5"
  }
 },
 "nbformat": 4,
 "nbformat_minor": 2
}
