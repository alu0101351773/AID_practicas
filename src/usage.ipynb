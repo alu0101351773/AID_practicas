{
 "cells": [
  {
   "cell_type": "markdown",
   "metadata": {},
   "source": [
    "# Práctica 1 - Exploración de ficheros locales con distinto formato"
   ]
  },
  {
   "cell_type": "markdown",
   "metadata": {},
   "source": [
    "## 0. Autoría"
   ]
  },
  {
   "cell_type": "markdown",
   "metadata": {},
   "source": [
    "* **Autor**: Jorge Cabrera Rodríguez\n",
    "* **Fecha**: 15/11/2023\n",
    "* **Asignatura**: Adquisición e Integración de Datos (AID)\n",
    "* **Máster**: Ciberseguridad e Inteligencia de Datos\n",
    "* **Universidad**: Universidad de La Laguna (ULL)"
   ]
  },
  {
   "cell_type": "markdown",
   "metadata": {},
   "source": [
    "## 1. Descripción de la librería"
   ]
  },
  {
   "cell_type": "markdown",
   "metadata": {},
   "source": [
    "Se busca desarrollar una librería sencilla en _python_ que permita la lectura, manipulación y escritura de conjuntos de datos (_datasets_) almacenados en ficheros locales. Estos ficheros pueden estar escritos en diferentes formatos, como puedan ser:\n",
    "\n",
    "* _CSV_\n",
    "* _JSON_\n",
    "* _XML_\n",
    "\n",
    "Las funcionalidades que implementa la librería son las siguientes:\n",
    "\n",
    "1. Leer diferentes ficheros locales de formato _CSV_, _JSON_ y _XML_.\n",
    "2. Obtener el nombre del fichero y el número de filas del conjunto de datos que contiene.\n",
    "3. Obtener el contenido completo del conjunto de datos contenido en el fichero.\n",
    "4. Obtener un subconjunto de datos del conjunto de datos contenido en el fichero acorde a un predicado lógico.\n",
    "5. Realizar operaciones de manipulación de datos sobre el conjunto de datos original, tales como:\n",
    "    * Inserción de nuevas filas.\n",
    "    * Eliminación de filas acorde a un predicado lógico.\n",
    "    * Modificación de filas acorde a un predicado lógico.\n",
    "6. Realizar operaciones de modificado de la estructura (_schema_) del conjunto de datos original, tales como:\n",
    "    * Añadir una nueva columna.\n",
    "    * Eliminar una columna.\n",
    "7. Almacenar los cambios realizados a un conjunto de datos de nuevo a un fichero\n",
    "local."
   ]
  },
  {
   "cell_type": "markdown",
   "metadata": {},
   "source": [
    "## 2. Uso de la librería"
   ]
  },
  {
   "cell_type": "markdown",
   "metadata": {},
   "source": [
    "### 2.1. Lectura de ficheros"
   ]
  },
  {
   "cell_type": "markdown",
   "metadata": {},
   "source": [
    "El módulo `multi_reader` aporta las siguientes funciones para leer ficheros:\n",
    "\n",
    "* `read_csv`: Lee un fichero en formato _CSV_.\n",
    "* `read_json`: Lee un fichero en formato _JSON_.\n",
    "* `read_xml`: Lee un fichero en formato _XML_.\n",
    "\n",
    "Estas funciones retornan una clase propia del módulo `multi_reader` llamada `DataFile` que contiene la información del fichero leído."
   ]
  },
  {
   "cell_type": "code",
   "execution_count": 10,
   "metadata": {},
   "outputs": [
    {
     "name": "stdout",
     "output_type": "stream",
     "text": [
      "Tipo de dato de csv_file: DataFile\n",
      "\n",
      "Tipo de dato de xml_file: DataFile\n",
      "\n",
      "Tipo de dato de json_file: DataFile\n"
     ]
    }
   ],
   "source": [
    "from multi_reader import *\n",
    "\n",
    "csv_file = read_csv('../data/iris.csv')\n",
    "print(f\"Tipo de dato de csv_file: {type(csv_file).__name__}\", end=\"\\n\\n\")\n",
    "\n",
    "\n",
    "xml_file = read_xml('../data/movies.xml')\n",
    "print(f\"Tipo de dato de xml_file: {type(xml_file).__name__}\", end=\"\\n\\n\")\n",
    "\n",
    "\n",
    "json_file = read_json('../data/country.json')\n",
    "print(f\"Tipo de dato de json_file: {type(json_file).__name__}\")"
   ]
  },
  {
   "cell_type": "markdown",
   "metadata": {},
   "source": [
    "En caso de que el fichero no exista, o el formato esperado no coincida con el del fichero, se lanzará una excepción."
   ]
  },
  {
   "cell_type": "code",
   "execution_count": 5,
   "metadata": {},
   "outputs": [
    {
     "name": "stdout",
     "output_type": "stream",
     "text": [
      "El formato del fichero no coincide!\n",
      "\n",
      "El fichero no existe!\n",
      "\n"
     ]
    },
    {
     "name": "stderr",
     "output_type": "stream",
     "text": [
      "c:\\Users\\cabre\\Documents\\Master\\adquisicion_incorporacion_datos\\AID_practicas\\src\\multi_reader.py:271: FutureWarning: Passing literal json to 'read_json' is deprecated and will be removed in a future version. To read from a literal string, wrap it in a 'StringIO' object.\n",
      "  data_frame = parsing_function(file_path)\n"
     ]
    }
   ],
   "source": [
    "from multi_reader import *\n",
    "\n",
    "try:\n",
    "    read_csv('../data/movies.xml')\n",
    "except:\n",
    "    print('El formato del fichero no coincide!', end=\"\\n\\n\")\n",
    "\n",
    "\n",
    "try:\n",
    "    read_json('Fichero_inexistente.txt')\n",
    "except:\n",
    "    print('El fichero no existe!', end=\"\\n\\n\")"
   ]
  },
  {
   "cell_type": "markdown",
   "metadata": {},
   "source": [
    "Los métodos de lectura de fichero son las formas esperadas de generar instancias de la clase `DataFile`. La invocación directa del constructor de la clase está implementada, pero desaconsejada."
   ]
  },
  {
   "cell_type": "markdown",
   "metadata": {},
   "source": [
    "### 2.2. Obtención de información sobre el conjunto de datos"
   ]
  },
  {
   "cell_type": "markdown",
   "metadata": {},
   "source": [
    "La clase `DataFile` contiene todos los métodos necesarios para manipular el conjunto de datos. Uno de estos métodos es `summary()`, que nos permite obtener el nombre original del fichero y el número de filas que contiene."
   ]
  },
  {
   "cell_type": "code",
   "execution_count": 7,
   "metadata": {},
   "outputs": [
    {
     "name": "stdout",
     "output_type": "stream",
     "text": [
      "iris.csv (150 rows)\n",
      "\n",
      "movies.xml (14 rows)\n",
      "\n",
      "country.json (135 rows)\n"
     ]
    }
   ],
   "source": [
    "from multi_reader import *\n",
    "\n",
    "csv_file = read_csv('../data/iris.csv')\n",
    "print(csv_file.summary(), end=\"\\n\\n\")\n",
    "\n",
    "\n",
    "xml_file = read_xml('../data/movies.xml')\n",
    "print(xml_file.summary(), end=\"\\n\\n\")\n",
    "\n",
    "\n",
    "json_file = read_json('../data/country.json')\n",
    "print(json_file.summary())"
   ]
  },
  {
   "cell_type": "markdown",
   "metadata": {},
   "source": [
    "### 2.3. Obtención de contenido del conjunto de datos"
   ]
  },
  {
   "cell_type": "markdown",
   "metadata": {},
   "source": [
    "El método `content()` permite obtener el contenido completo del conjunto de datos contenido en el fichero, en formato `str`."
   ]
  },
  {
   "cell_type": "code",
   "execution_count": 14,
   "metadata": {},
   "outputs": [
    {
     "name": "stdout",
     "output_type": "stream",
     "text": [
      "   sepal_length  sepal_width  petal_length  petal_width         iris\n",
      "0           5.1          3.5           1.4          0.2  Iris-setosa\n",
      "1           4.9          3.0           1.4          0.2  Iris-setosa\n",
      "2           4.7          3.2           1.3          0.2  Iris-setosa\n"
     ]
    }
   ],
   "source": [
    "from multi_reader import *\n",
    "\n",
    "csv_file = read_csv('../data/iris_small.csv')\n",
    "print(csv_file.content())"
   ]
  },
  {
   "cell_type": "code",
   "execution_count": 15,
   "metadata": {},
   "outputs": [
    {
     "name": "stdout",
     "output_type": "stream",
     "text": [
      "   favorite                                       title      format  year rating                                                                                                                                                   description\n",
      "0      True  Indiana Jones: The raiders of the lost Ark         DVD  1981     PG  'Archaeologist and adventurer Indiana Jones \\n        is hired by the U.S. government to find the Ark of the \\n        Covenant before the Nazis.'\\n        \n",
      "1      True                              THE KARATE KID  DVD,Online  1984     PG                                                                                                                                                None provided.\n",
      "2     False                           Back 2 the Future     Blu-ray  1985     PG                                                                                                                                                   Marty McFly\n"
     ]
    }
   ],
   "source": [
    "from multi_reader import *\n",
    "\n",
    "xml_file = read_xml('../data/movies_small.xml')\n",
    "print(xml_file.content())"
   ]
  },
  {
   "cell_type": "code",
   "execution_count": 19,
   "metadata": {},
   "outputs": [
    {
     "name": "stdout",
     "output_type": "stream",
     "text": [
      "              name code\n",
      "0          Algeria   DZ\n",
      "1        Argentina   AR\n",
      "2        Australia   AU\n",
      "3          Austria   AT\n",
      "4  Austria-Hungary  NaN\n"
     ]
    }
   ],
   "source": [
    "from multi_reader import *\n",
    "\n",
    "json_file = read_json('../data/country_small.json')\n",
    "print(json_file.content())"
   ]
  },
  {
   "cell_type": "markdown",
   "metadata": {},
   "source": [
    "### 2.4. Filtrado de registros"
   ]
  },
  {
   "cell_type": "markdown",
   "metadata": {},
   "source": [
    "El método `filter()` nos permite filtrar aquellas filas en el conjunto de datos que cumplan un predicado lógico en concreto. Este predicado lógico debe ser una función que reciba como parámetro una fila del conjunto de datos y devuelva un valor booleano.\n",
    "\n",
    "El resultado es un nuevo `DataFile` distinto al original, que contiene únicamente las filas que cumplen el predicado lógico."
   ]
  },
  {
   "cell_type": "code",
   "execution_count": 21,
   "metadata": {},
   "outputs": [
    {
     "name": "stdout",
     "output_type": "stream",
     "text": [
      "      name code\n",
      "112  Spain   ES\n"
     ]
    }
   ],
   "source": [
    "from multi_reader import *\n",
    "\n",
    "json_file = read_json('../data/country.json')\n",
    "\n",
    "filtered_file = json_file.filter(lambda row: row['code'] == 'ES')\n",
    "\n",
    "print(filtered_file.content())"
   ]
  },
  {
   "cell_type": "code",
   "execution_count": 22,
   "metadata": {},
   "outputs": [
    {
     "name": "stdout",
     "output_type": "stream",
     "text": [
      "    favorite                                       title      format  year rating                                                                                                                                                   description\n",
      "0       True  Indiana Jones: The raiders of the lost Ark         DVD  1981     PG  'Archaeologist and adventurer Indiana Jones \\n        is hired by the U.S. government to find the Ark of the \\n        Covenant before the Nazis.'\\n        \n",
      "1       True                              THE KARATE KID  DVD,Online  1984     PG                                                                                                                                                None provided.\n",
      "2      False                           Back 2 the Future     Blu-ray  1985     PG                                                                                                                                                   Marty McFly\n",
      "6      False                                       ALIEN         DVD  1979      R                                                                                                                                                     \"\"\"\"\"\"\"\"\"\n",
      "7       True                    Ferris Bueller's Day Off         DVD  1986   PG13                                                                                                                                 Funny movie about a funny guy\n",
      "9      False                           Batman: The Movie     DVD,VHS  1966     PG                                                                                                                                                  What a joke!\n",
      "12     False                                Ghostbusters  Online,VHS  1984     PG                                                                                                                                            Who ya gonna call?\n"
     ]
    }
   ],
   "source": [
    "from multi_reader import *\n",
    "\n",
    "xml_file = read_xml('../data/movies.xml')\n",
    "\n",
    "filtered_file = xml_file.filter(lambda row: row['year'] < 1987)\n",
    "\n",
    "print(filtered_file.content())"
   ]
  },
  {
   "cell_type": "markdown",
   "metadata": {},
   "source": [
    "### 2.5. Operaciones de modificación de datos"
   ]
  },
  {
   "cell_type": "markdown",
   "metadata": {},
   "source": [
    "#### 2.5.1. Inserción de filas"
   ]
  },
  {
   "cell_type": "markdown",
   "metadata": {},
   "source": [
    "#### 2.5.2. Eliminación de filas"
   ]
  },
  {
   "cell_type": "markdown",
   "metadata": {},
   "source": [
    "#### 2.5.3. Modificación de filas"
   ]
  },
  {
   "cell_type": "markdown",
   "metadata": {},
   "source": [
    "### 2.6. Operaciones de modificación de estructura"
   ]
  },
  {
   "cell_type": "markdown",
   "metadata": {},
   "source": [
    "#### 2.6.1. Añadido de columnas"
   ]
  },
  {
   "cell_type": "markdown",
   "metadata": {},
   "source": [
    "#### 2.6.2. Eliminado de columnas"
   ]
  },
  {
   "cell_type": "markdown",
   "metadata": {},
   "source": [
    "### 2.7. Escritura de ficheros"
   ]
  }
 ],
 "metadata": {
  "kernelspec": {
   "display_name": "Python 3",
   "language": "python",
   "name": "python3"
  },
  "language_info": {
   "codemirror_mode": {
    "name": "ipython",
    "version": 3
   },
   "file_extension": ".py",
   "mimetype": "text/x-python",
   "name": "python",
   "nbconvert_exporter": "python",
   "pygments_lexer": "ipython3",
   "version": "3.11.4"
  }
 },
 "nbformat": 4,
 "nbformat_minor": 2
}
