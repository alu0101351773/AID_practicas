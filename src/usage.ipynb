{
 "cells": [
  {
   "cell_type": "code",
   "execution_count": 7,
   "metadata": {},
   "outputs": [
    {
     "ename": "TypeError",
     "evalue": "unsupported operand type(s) for |: 'type' and 'str'",
     "output_type": "error",
     "traceback": [
      "\u001b[1;31m---------------------------------------------------------------------------\u001b[0m",
      "\u001b[1;31mTypeError\u001b[0m                                 Traceback (most recent call last)",
      "\u001b[1;32mc:\\Users\\cabre\\Documents\\adquisicion_datos\\AID_practicas\\src\\usage.ipynb Cell 1\u001b[0m line \u001b[0;36m1\n\u001b[1;32m----> <a href='vscode-notebook-cell:/c%3A/Users/cabre/Documents/adquisicion_datos/AID_practicas/src/usage.ipynb#X12sZmlsZQ%3D%3D?line=0'>1</a>\u001b[0m \u001b[39mimport\u001b[39;00m \u001b[39mmulti_reader\u001b[39;00m\n",
      "File \u001b[1;32mc:\\Users\\cabre\\Documents\\adquisicion_datos\\AID_practicas\\src\\multi_reader.py:7\u001b[0m\n\u001b[0;32m      3\u001b[0m \u001b[39mimport\u001b[39;00m \u001b[39mos\u001b[39;00m\n\u001b[0;32m      5\u001b[0m FILE_PATTERN \u001b[39m=\u001b[39m \u001b[39mr\u001b[39m\u001b[39m'\u001b[39m\u001b[39m(.*)\u001b[39m\u001b[39m\\\u001b[39m\u001b[39m.(csv|json|xml)\u001b[39m\u001b[39m'\u001b[39m\n\u001b[1;32m----> 7\u001b[0m \u001b[39mclass\u001b[39;49;00m \u001b[39mDataFile\u001b[39;49;00m:\n\u001b[0;32m      8\u001b[0m     \u001b[39mdef\u001b[39;49;00m \u001b[39m__init__\u001b[39;49m(\u001b[39mself\u001b[39;49m, data_frame: pd\u001b[39m.\u001b[39;49mDataFrame, file_name: \u001b[39mstr\u001b[39;49m):\n\u001b[0;32m      9\u001b[0m         (\u001b[39mself\u001b[39;49m\u001b[39m.\u001b[39;49m_file_name, \u001b[39mself\u001b[39;49m\u001b[39m.\u001b[39;49m_file_extension) \u001b[39m=\u001b[39;49m re\u001b[39m.\u001b[39;49mmatch(\n\u001b[0;32m     10\u001b[0m             pattern \u001b[39m=\u001b[39;49m FILE_PATTERN,\n\u001b[0;32m     11\u001b[0m             string \u001b[39m=\u001b[39;49m file_name\n\u001b[0;32m     12\u001b[0m         )\u001b[39m.\u001b[39;49mgroups()\n",
      "File \u001b[1;32mc:\\Users\\cabre\\Documents\\adquisicion_datos\\AID_practicas\\src\\multi_reader.py:33\u001b[0m, in \u001b[0;36mDataFile\u001b[1;34m()\u001b[0m\n\u001b[0;32m     29\u001b[0m     \u001b[39mreturn\u001b[39;00m DataFile(subset, \u001b[39mf\u001b[39m\u001b[39m'\u001b[39m\u001b[39m{\u001b[39;00m\u001b[39mself\u001b[39m\u001b[39m.\u001b[39m_file_name\u001b[39m}\u001b[39;00m\u001b[39m.\u001b[39m\u001b[39m{\u001b[39;00m\u001b[39mself\u001b[39m\u001b[39m.\u001b[39m_file_extension\u001b[39m}\u001b[39;00m\u001b[39m'\u001b[39m)\n\u001b[0;32m     31\u001b[0m \u001b[39m# TODO: Metodos de manipulacion de datos como:\u001b[39;00m\n\u001b[0;32m     32\u001b[0m \u001b[39m# - Insertar registros\u001b[39;00m\n\u001b[1;32m---> 33\u001b[0m \u001b[39mdef\u001b[39;00m \u001b[39minsert\u001b[39m(\u001b[39mself\u001b[39m, value_list: \u001b[39mlist\u001b[39;49m \u001b[39m|\u001b[39;49m \u001b[39m'\u001b[39;49m\u001b[39mDataFile\u001b[39;49m\u001b[39m'\u001b[39;49m):\n\u001b[0;32m     34\u001b[0m     \u001b[39mprint\u001b[39m(value_list\u001b[39m.\u001b[39m_data_frame)\n\u001b[0;32m     35\u001b[0m     \u001b[39mpass\u001b[39;00m\n",
      "\u001b[1;31mTypeError\u001b[0m: unsupported operand type(s) for |: 'type' and 'str'"
     ]
    }
   ],
   "source": [
    "import multi_reader"
   ]
  },
  {
   "cell_type": "code",
   "execution_count": null,
   "metadata": {},
   "outputs": [],
   "source": []
  }
 ],
 "metadata": {
  "kernelspec": {
   "display_name": "Python 3",
   "language": "python",
   "name": "python3"
  },
  "language_info": {
   "codemirror_mode": {
    "name": "ipython",
    "version": 3
   },
   "file_extension": ".py",
   "mimetype": "text/x-python",
   "name": "python",
   "nbconvert_exporter": "python",
   "pygments_lexer": "ipython3",
   "version": "3.11.5"
  }
 },
 "nbformat": 4,
 "nbformat_minor": 2
}
